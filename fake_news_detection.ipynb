{
  "nbformat": 4,
  "nbformat_minor": 0,
  "metadata": {
    "colab": {
      "provenance": []
    },
    "kernelspec": {
      "name": "python3",
      "display_name": "Python 3"
    },
    "language_info": {
      "name": "python"
    }
  },
  "cells": [
    {
      "cell_type": "code",
      "execution_count": null,
      "metadata": {
        "id": "S-slAt_Ru6gV"
      },
      "outputs": [],
      "source": [
        "import pickle\n",
        "import pandas as pd\n",
        "from sklearn.feature_extraction.text import TfidfVectorizer\n",
        "from sklearn.model_selection import train_test_split\n",
        "from sklearn.linear_model import LogisticRegression\n",
        "from sklearn.pipeline import Pipeline"
      ]
    },
    {
      "cell_type": "code",
      "source": [
        "def train_model():\n",
        "    # Load dataset\n",
        "    df = pd.read_csv('/content/train..csv')\n",
        "\n",
        "    # Preprocess dataset\n",
        "    X = df['text']\n",
        "    y = df['label']\n",
        "\n",
        "    # Split into training and testing sets\n",
        "    X_train, X_test, y_train, y_test = train_test_split(X, y, test_size=0.2, random_state=42)\n",
        "\n",
        "    # Build a pipeline with TF-IDF and Logistic Regression\n",
        "    pipeline = Pipeline([\n",
        "        ('tfidf', TfidfVectorizer(stop_words='english')),\n",
        "        ('lr', LogisticRegression(solver='lbfgs', max_iter=1000))\n",
        "    ])\n",
        "\n",
        "    # Train the model\n",
        "    pipeline.fit(X_train, y_train)\n",
        "    with open('models/fake_news_model.pkl', 'wb') as f:\n",
        "        pickle.dump(pipeline, f)\n"
      ],
      "metadata": {
        "id": "J3b03QgnwM20"
      },
      "execution_count": null,
      "outputs": []
    },
    {
      "cell_type": "code",
      "source": [
        "def predict_fake_news(text):\n",
        "    # Load pre-trained model\n",
        "    with open('models/fake_news_model.pkl', 'rb') as f:\n",
        "        model = pickle.load(f)\n",
        "\n",
        "    # Predict if the news is fake or real\n",
        "    prediction = model.predict([X_test])[0]\n",
        "    return \"Fake\" if prediction == 1 else \"Real\"\n"
      ],
      "metadata": {
        "id": "7o2H0EfOwZcT"
      },
      "execution_count": null,
      "outputs": []
    },
    {
      "cell_type": "code",
      "source": [],
      "metadata": {
        "id": "etfP5SKxwnOp"
      },
      "execution_count": null,
      "outputs": []
    }
  ]
}