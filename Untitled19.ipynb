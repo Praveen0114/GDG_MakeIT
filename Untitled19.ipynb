{
  "cells": [
    {
      "cell_type": "code",
      "execution_count": null,
      "metadata": {
        "id": "MQOegTeDvdrT"
      },
      "outputs": [],
      "source": [
        "from os import sep\n",
        "import pandas as pd\n",
        "data = pd.read_csv('/content/SMSSpamCollection', sep = '\\t', header = None, names = ['label', 'message'])"
      ]
    },
    {
      "cell_type": "code",
      "execution_count": null,
      "metadata": {
        "colab": {
          "base_uri": "https://localhost:8080/",
          "height": 423
        },
        "id": "X9F1QCcrw3s4",
        "outputId": "47a75f25-a1ae-4236-f22f-a963db7b93dd"
      },
      "outputs": [
        {
          "data": {
            "application/vnd.google.colaboratory.intrinsic+json": {
              "summary": "{\n  \"name\": \"data\",\n  \"rows\": 5572,\n  \"fields\": [\n    {\n      \"column\": \"label\",\n      \"properties\": {\n        \"dtype\": \"category\",\n        \"num_unique_values\": 2,\n        \"samples\": [\n          \"spam\",\n          \"ham\"\n        ],\n        \"semantic_type\": \"\",\n        \"description\": \"\"\n      }\n    },\n    {\n      \"column\": \"message\",\n      \"properties\": {\n        \"dtype\": \"string\",\n        \"num_unique_values\": 5169,\n        \"samples\": [\n          \"K, makes sense, btw carlos is being difficult so you guys are gonna smoke while I go pick up the second batch and get gas\",\n          \"URGENT! Your mobile No *********** WON a \\u00a32,000 Bonus Caller Prize on 02/06/03! This is the 2nd attempt to reach YOU! Call 09066362220 ASAP! BOX97N7QP, 150ppm\"\n        ],\n        \"semantic_type\": \"\",\n        \"description\": \"\"\n      }\n    }\n  ]\n}",
              "type": "dataframe",
              "variable_name": "data"
            },
            "text/html": [
              "\n",
              "  <div id=\"df-bac6f6f0-64dc-4246-9bcd-d6e4b19f4f41\" class=\"colab-df-container\">\n",
              "    <div>\n",
              "<style scoped>\n",
              "    .dataframe tbody tr th:only-of-type {\n",
              "        vertical-align: middle;\n",
              "    }\n",
              "\n",
              "    .dataframe tbody tr th {\n",
              "        vertical-align: top;\n",
              "    }\n",
              "\n",
              "    .dataframe thead th {\n",
              "        text-align: right;\n",
              "    }\n",
              "</style>\n",
              "<table border=\"1\" class=\"dataframe\">\n",
              "  <thead>\n",
              "    <tr style=\"text-align: right;\">\n",
              "      <th></th>\n",
              "      <th>label</th>\n",
              "      <th>message</th>\n",
              "    </tr>\n",
              "  </thead>\n",
              "  <tbody>\n",
              "    <tr>\n",
              "      <th>0</th>\n",
              "      <td>ham</td>\n",
              "      <td>Go until jurong point, crazy.. Available only ...</td>\n",
              "    </tr>\n",
              "    <tr>\n",
              "      <th>1</th>\n",
              "      <td>ham</td>\n",
              "      <td>Ok lar... Joking wif u oni...</td>\n",
              "    </tr>\n",
              "    <tr>\n",
              "      <th>2</th>\n",
              "      <td>spam</td>\n",
              "      <td>Free entry in 2 a wkly comp to win FA Cup fina...</td>\n",
              "    </tr>\n",
              "    <tr>\n",
              "      <th>3</th>\n",
              "      <td>ham</td>\n",
              "      <td>U dun say so early hor... U c already then say...</td>\n",
              "    </tr>\n",
              "    <tr>\n",
              "      <th>4</th>\n",
              "      <td>ham</td>\n",
              "      <td>Nah I don't think he goes to usf, he lives aro...</td>\n",
              "    </tr>\n",
              "    <tr>\n",
              "      <th>...</th>\n",
              "      <td>...</td>\n",
              "      <td>...</td>\n",
              "    </tr>\n",
              "    <tr>\n",
              "      <th>5567</th>\n",
              "      <td>spam</td>\n",
              "      <td>This is the 2nd time we have tried 2 contact u...</td>\n",
              "    </tr>\n",
              "    <tr>\n",
              "      <th>5568</th>\n",
              "      <td>ham</td>\n",
              "      <td>Will ü b going to esplanade fr home?</td>\n",
              "    </tr>\n",
              "    <tr>\n",
              "      <th>5569</th>\n",
              "      <td>ham</td>\n",
              "      <td>Pity, * was in mood for that. So...any other s...</td>\n",
              "    </tr>\n",
              "    <tr>\n",
              "      <th>5570</th>\n",
              "      <td>ham</td>\n",
              "      <td>The guy did some bitching but I acted like i'd...</td>\n",
              "    </tr>\n",
              "    <tr>\n",
              "      <th>5571</th>\n",
              "      <td>ham</td>\n",
              "      <td>Rofl. Its true to its name</td>\n",
              "    </tr>\n",
              "  </tbody>\n",
              "</table>\n",
              "<p>5572 rows × 2 columns</p>\n",
              "</div>\n",
              "    <div class=\"colab-df-buttons\">\n",
              "\n",
              "  <div class=\"colab-df-container\">\n",
              "    <button class=\"colab-df-convert\" onclick=\"convertToInteractive('df-bac6f6f0-64dc-4246-9bcd-d6e4b19f4f41')\"\n",
              "            title=\"Convert this dataframe to an interactive table.\"\n",
              "            style=\"display:none;\">\n",
              "\n",
              "  <svg xmlns=\"http://www.w3.org/2000/svg\" height=\"24px\" viewBox=\"0 -960 960 960\">\n",
              "    <path d=\"M120-120v-720h720v720H120Zm60-500h600v-160H180v160Zm220 220h160v-160H400v160Zm0 220h160v-160H400v160ZM180-400h160v-160H180v160Zm440 0h160v-160H620v160ZM180-180h160v-160H180v160Zm440 0h160v-160H620v160Z\"/>\n",
              "  </svg>\n",
              "    </button>\n",
              "\n",
              "  <style>\n",
              "    .colab-df-container {\n",
              "      display:flex;\n",
              "      gap: 12px;\n",
              "    }\n",
              "\n",
              "    .colab-df-convert {\n",
              "      background-color: #E8F0FE;\n",
              "      border: none;\n",
              "      border-radius: 50%;\n",
              "      cursor: pointer;\n",
              "      display: none;\n",
              "      fill: #1967D2;\n",
              "      height: 32px;\n",
              "      padding: 0 0 0 0;\n",
              "      width: 32px;\n",
              "    }\n",
              "\n",
              "    .colab-df-convert:hover {\n",
              "      background-color: #E2EBFA;\n",
              "      box-shadow: 0px 1px 2px rgba(60, 64, 67, 0.3), 0px 1px 3px 1px rgba(60, 64, 67, 0.15);\n",
              "      fill: #174EA6;\n",
              "    }\n",
              "\n",
              "    .colab-df-buttons div {\n",
              "      margin-bottom: 4px;\n",
              "    }\n",
              "\n",
              "    [theme=dark] .colab-df-convert {\n",
              "      background-color: #3B4455;\n",
              "      fill: #D2E3FC;\n",
              "    }\n",
              "\n",
              "    [theme=dark] .colab-df-convert:hover {\n",
              "      background-color: #434B5C;\n",
              "      box-shadow: 0px 1px 3px 1px rgba(0, 0, 0, 0.15);\n",
              "      filter: drop-shadow(0px 1px 2px rgba(0, 0, 0, 0.3));\n",
              "      fill: #FFFFFF;\n",
              "    }\n",
              "  </style>\n",
              "\n",
              "    <script>\n",
              "      const buttonEl =\n",
              "        document.querySelector('#df-bac6f6f0-64dc-4246-9bcd-d6e4b19f4f41 button.colab-df-convert');\n",
              "      buttonEl.style.display =\n",
              "        google.colab.kernel.accessAllowed ? 'block' : 'none';\n",
              "\n",
              "      async function convertToInteractive(key) {\n",
              "        const element = document.querySelector('#df-bac6f6f0-64dc-4246-9bcd-d6e4b19f4f41');\n",
              "        const dataTable =\n",
              "          await google.colab.kernel.invokeFunction('convertToInteractive',\n",
              "                                                    [key], {});\n",
              "        if (!dataTable) return;\n",
              "\n",
              "        const docLinkHtml = 'Like what you see? Visit the ' +\n",
              "          '<a target=\"_blank\" href=https://colab.research.google.com/notebooks/data_table.ipynb>data table notebook</a>'\n",
              "          + ' to learn more about interactive tables.';\n",
              "        element.innerHTML = '';\n",
              "        dataTable['output_type'] = 'display_data';\n",
              "        await google.colab.output.renderOutput(dataTable, element);\n",
              "        const docLink = document.createElement('div');\n",
              "        docLink.innerHTML = docLinkHtml;\n",
              "        element.appendChild(docLink);\n",
              "      }\n",
              "    </script>\n",
              "  </div>\n",
              "\n",
              "\n",
              "<div id=\"df-5108b5bc-627e-40ff-ba74-428deced16bf\">\n",
              "  <button class=\"colab-df-quickchart\" onclick=\"quickchart('df-5108b5bc-627e-40ff-ba74-428deced16bf')\"\n",
              "            title=\"Suggest charts\"\n",
              "            style=\"display:none;\">\n",
              "\n",
              "<svg xmlns=\"http://www.w3.org/2000/svg\" height=\"24px\"viewBox=\"0 0 24 24\"\n",
              "     width=\"24px\">\n",
              "    <g>\n",
              "        <path d=\"M19 3H5c-1.1 0-2 .9-2 2v14c0 1.1.9 2 2 2h14c1.1 0 2-.9 2-2V5c0-1.1-.9-2-2-2zM9 17H7v-7h2v7zm4 0h-2V7h2v10zm4 0h-2v-4h2v4z\"/>\n",
              "    </g>\n",
              "</svg>\n",
              "  </button>\n",
              "\n",
              "<style>\n",
              "  .colab-df-quickchart {\n",
              "      --bg-color: #E8F0FE;\n",
              "      --fill-color: #1967D2;\n",
              "      --hover-bg-color: #E2EBFA;\n",
              "      --hover-fill-color: #174EA6;\n",
              "      --disabled-fill-color: #AAA;\n",
              "      --disabled-bg-color: #DDD;\n",
              "  }\n",
              "\n",
              "  [theme=dark] .colab-df-quickchart {\n",
              "      --bg-color: #3B4455;\n",
              "      --fill-color: #D2E3FC;\n",
              "      --hover-bg-color: #434B5C;\n",
              "      --hover-fill-color: #FFFFFF;\n",
              "      --disabled-bg-color: #3B4455;\n",
              "      --disabled-fill-color: #666;\n",
              "  }\n",
              "\n",
              "  .colab-df-quickchart {\n",
              "    background-color: var(--bg-color);\n",
              "    border: none;\n",
              "    border-radius: 50%;\n",
              "    cursor: pointer;\n",
              "    display: none;\n",
              "    fill: var(--fill-color);\n",
              "    height: 32px;\n",
              "    padding: 0;\n",
              "    width: 32px;\n",
              "  }\n",
              "\n",
              "  .colab-df-quickchart:hover {\n",
              "    background-color: var(--hover-bg-color);\n",
              "    box-shadow: 0 1px 2px rgba(60, 64, 67, 0.3), 0 1px 3px 1px rgba(60, 64, 67, 0.15);\n",
              "    fill: var(--button-hover-fill-color);\n",
              "  }\n",
              "\n",
              "  .colab-df-quickchart-complete:disabled,\n",
              "  .colab-df-quickchart-complete:disabled:hover {\n",
              "    background-color: var(--disabled-bg-color);\n",
              "    fill: var(--disabled-fill-color);\n",
              "    box-shadow: none;\n",
              "  }\n",
              "\n",
              "  .colab-df-spinner {\n",
              "    border: 2px solid var(--fill-color);\n",
              "    border-color: transparent;\n",
              "    border-bottom-color: var(--fill-color);\n",
              "    animation:\n",
              "      spin 1s steps(1) infinite;\n",
              "  }\n",
              "\n",
              "  @keyframes spin {\n",
              "    0% {\n",
              "      border-color: transparent;\n",
              "      border-bottom-color: var(--fill-color);\n",
              "      border-left-color: var(--fill-color);\n",
              "    }\n",
              "    20% {\n",
              "      border-color: transparent;\n",
              "      border-left-color: var(--fill-color);\n",
              "      border-top-color: var(--fill-color);\n",
              "    }\n",
              "    30% {\n",
              "      border-color: transparent;\n",
              "      border-left-color: var(--fill-color);\n",
              "      border-top-color: var(--fill-color);\n",
              "      border-right-color: var(--fill-color);\n",
              "    }\n",
              "    40% {\n",
              "      border-color: transparent;\n",
              "      border-right-color: var(--fill-color);\n",
              "      border-top-color: var(--fill-color);\n",
              "    }\n",
              "    60% {\n",
              "      border-color: transparent;\n",
              "      border-right-color: var(--fill-color);\n",
              "    }\n",
              "    80% {\n",
              "      border-color: transparent;\n",
              "      border-right-color: var(--fill-color);\n",
              "      border-bottom-color: var(--fill-color);\n",
              "    }\n",
              "    90% {\n",
              "      border-color: transparent;\n",
              "      border-bottom-color: var(--fill-color);\n",
              "    }\n",
              "  }\n",
              "</style>\n",
              "\n",
              "  <script>\n",
              "    async function quickchart(key) {\n",
              "      const quickchartButtonEl =\n",
              "        document.querySelector('#' + key + ' button');\n",
              "      quickchartButtonEl.disabled = true;  // To prevent multiple clicks.\n",
              "      quickchartButtonEl.classList.add('colab-df-spinner');\n",
              "      try {\n",
              "        const charts = await google.colab.kernel.invokeFunction(\n",
              "            'suggestCharts', [key], {});\n",
              "      } catch (error) {\n",
              "        console.error('Error during call to suggestCharts:', error);\n",
              "      }\n",
              "      quickchartButtonEl.classList.remove('colab-df-spinner');\n",
              "      quickchartButtonEl.classList.add('colab-df-quickchart-complete');\n",
              "    }\n",
              "    (() => {\n",
              "      let quickchartButtonEl =\n",
              "        document.querySelector('#df-5108b5bc-627e-40ff-ba74-428deced16bf button');\n",
              "      quickchartButtonEl.style.display =\n",
              "        google.colab.kernel.accessAllowed ? 'block' : 'none';\n",
              "    })();\n",
              "  </script>\n",
              "</div>\n",
              "\n",
              "  <div id=\"id_aac4f9e2-c7a5-49f2-b953-0f3ef7f8a999\">\n",
              "    <style>\n",
              "      .colab-df-generate {\n",
              "        background-color: #E8F0FE;\n",
              "        border: none;\n",
              "        border-radius: 50%;\n",
              "        cursor: pointer;\n",
              "        display: none;\n",
              "        fill: #1967D2;\n",
              "        height: 32px;\n",
              "        padding: 0 0 0 0;\n",
              "        width: 32px;\n",
              "      }\n",
              "\n",
              "      .colab-df-generate:hover {\n",
              "        background-color: #E2EBFA;\n",
              "        box-shadow: 0px 1px 2px rgba(60, 64, 67, 0.3), 0px 1px 3px 1px rgba(60, 64, 67, 0.15);\n",
              "        fill: #174EA6;\n",
              "      }\n",
              "\n",
              "      [theme=dark] .colab-df-generate {\n",
              "        background-color: #3B4455;\n",
              "        fill: #D2E3FC;\n",
              "      }\n",
              "\n",
              "      [theme=dark] .colab-df-generate:hover {\n",
              "        background-color: #434B5C;\n",
              "        box-shadow: 0px 1px 3px 1px rgba(0, 0, 0, 0.15);\n",
              "        filter: drop-shadow(0px 1px 2px rgba(0, 0, 0, 0.3));\n",
              "        fill: #FFFFFF;\n",
              "      }\n",
              "    </style>\n",
              "    <button class=\"colab-df-generate\" onclick=\"generateWithVariable('data')\"\n",
              "            title=\"Generate code using this dataframe.\"\n",
              "            style=\"display:none;\">\n",
              "\n",
              "  <svg xmlns=\"http://www.w3.org/2000/svg\" height=\"24px\"viewBox=\"0 0 24 24\"\n",
              "       width=\"24px\">\n",
              "    <path d=\"M7,19H8.4L18.45,9,17,7.55,7,17.6ZM5,21V16.75L18.45,3.32a2,2,0,0,1,2.83,0l1.4,1.43a1.91,1.91,0,0,1,.58,1.4,1.91,1.91,0,0,1-.58,1.4L9.25,21ZM18.45,9,17,7.55Zm-12,3A5.31,5.31,0,0,0,4.9,8.1,5.31,5.31,0,0,0,1,6.5,5.31,5.31,0,0,0,4.9,4.9,5.31,5.31,0,0,0,6.5,1,5.31,5.31,0,0,0,8.1,4.9,5.31,5.31,0,0,0,12,6.5,5.46,5.46,0,0,0,6.5,12Z\"/>\n",
              "  </svg>\n",
              "    </button>\n",
              "    <script>\n",
              "      (() => {\n",
              "      const buttonEl =\n",
              "        document.querySelector('#id_aac4f9e2-c7a5-49f2-b953-0f3ef7f8a999 button.colab-df-generate');\n",
              "      buttonEl.style.display =\n",
              "        google.colab.kernel.accessAllowed ? 'block' : 'none';\n",
              "\n",
              "      buttonEl.onclick = () => {\n",
              "        google.colab.notebook.generateWithVariable('data');\n",
              "      }\n",
              "      })();\n",
              "    </script>\n",
              "  </div>\n",
              "\n",
              "    </div>\n",
              "  </div>\n"
            ],
            "text/plain": [
              "     label                                            message\n",
              "0      ham  Go until jurong point, crazy.. Available only ...\n",
              "1      ham                      Ok lar... Joking wif u oni...\n",
              "2     spam  Free entry in 2 a wkly comp to win FA Cup fina...\n",
              "3      ham  U dun say so early hor... U c already then say...\n",
              "4      ham  Nah I don't think he goes to usf, he lives aro...\n",
              "...    ...                                                ...\n",
              "5567  spam  This is the 2nd time we have tried 2 contact u...\n",
              "5568   ham               Will ü b going to esplanade fr home?\n",
              "5569   ham  Pity, * was in mood for that. So...any other s...\n",
              "5570   ham  The guy did some bitching but I acted like i'd...\n",
              "5571   ham                         Rofl. Its true to its name\n",
              "\n",
              "[5572 rows x 2 columns]"
            ]
          },
          "execution_count": 2,
          "metadata": {},
          "output_type": "execute_result"
        }
      ],
      "source": [
        "data"
      ]
    },
    {
      "cell_type": "code",
      "execution_count": null,
      "metadata": {
        "colab": {
          "base_uri": "https://localhost:8080/",
          "height": 450
        },
        "id": "4aQU8V-yyrY8",
        "outputId": "ad00e010-361f-4b8f-b47a-8bb82d5cf85b"
      },
      "outputs": [
        {
          "data": {
            "image/png": "[encoded data removed]",
            "text/plain": [
              "<Figure size 640x480 with 1 Axes>"
            ]
          },
          "metadata": {},
          "output_type": "display_data"
        }
      ],
      "source": [
        "import seaborn as sns\n",
        "import matplotlib.pyplot as plt\n",
        "sns.countplot(x='label',data = data)\n",
        "plt.show()\n"
      ]
    },
    {
      "cell_type": "code",
      "execution_count": null,
      "metadata": {
        "colab": {
          "base_uri": "https://localhost:8080/"
        },
        "id": "nfFTJ0bTzRla",
        "outputId": "ce0403ec-486a-459f-ad53-75662b325171"
      },
      "outputs": [
        {
          "name": "stderr",
          "output_type": "stream",
          "text": [
            "[nltk_data] Downloading package punkt to /root/nltk_data...\n",
            "[nltk_data]   Package punkt is already up-to-date!\n",
            "[nltk_data] Downloading package stopwords to /root/nltk_data...\n",
            "[nltk_data]   Package stopwords is already up-to-date!\n",
            "[nltk_data] Downloading package wordnet to /root/nltk_data...\n",
            "[nltk_data]   Package wordnet is already up-to-date!\n"
          ]
        }
      ],
      "source": [
        "import nltk\n",
        "import re\n",
        "nltk.download('punkt')\n",
        "nltk.download('stopwords')\n",
        "nltk.download('wordnet')\n",
        "\n",
        "from nltk.stem import PorterStemmer\n",
        "from nltk.corpus import stopwords\n",
        "from nltk.stem import WordNetLemmatizer"
      ]
    },
    {
      "cell_type": "code",
      "execution_count": null,
      "metadata": {
        "colab": {
          "base_uri": "https://localhost:8080/"
        },
        "id": "Z-vD6YWVzrlU",
        "outputId": "f292d1d2-3388-40b7-de6c-3ca3f272a9b5"
      },
      "outputs": [
        {
          "name": "stdout",
          "output_type": "stream",
          "text": [
            "[',........', '......', \"2212005.87121()&'0845281007518'\", '......', \"',\", \"'3'!'?!,£1.50\", '..', \"'()'.*9\", '!!£900!09061701461.341.12.', '11?!08002986030', \"'',?'.\", '!10020,000>1187575.150/,6,16+4', '!1£100,000!::81010&..44031718', \"'...\", '!!', ':,>>://..?=', \"...':)\", '2.....', '\\x92.\\x92', '-/.8707787077:,4/ú1.20365044516+', '?', '‘2', 'ü......', '.3.?', '.?', \".'...'.\", '.', \"???'??\", \"'&;',''\", '..!?', \"',''\", \"2..2!'!.?\", '.', '?', '£5/.', '...ü...28', \",''\", '', '......', \"!'?'.'!\", '...', '?,,............', '07732584351--=+.08000930705', '?', '!.&;#&;...', '....', \"'.\", ',?', \",'\", \"'.'.'..\", '..', '&;#&;,&;#&;', \"'\", '..,\"\".\\'\\'\\'.\\'.\\'.', '.:.??', '?@&;&;', '!12.09061209465!,3,3,4!420-4-5.150.!', \",'.\", '', '...', \"$1.'..\", '..', '', ',?', '..', ',.£1500,09066364589', '\"..\"?...', ',&41£1000.8712118+6*£1.50(.)10,13', '\"\"?\\'!', '.', '.........', '.', '?', '..:)??', '...', '..', '..', ':).', '&;#&;', \"..'.\", \",'\", '.?', '', '', '.', \",'.,.\", \"?2'..\", \"'...\", \"'\", '.,,..', '!‘-‘!', \".?'42..\", '1!!', '0800169603110-9£1000£5000!', '.530.?', '.\"\"85069..,5249,1792.45016', '..?', '.', '.-!..?\"', '', \"'..\", '!?', \"'.4.\", \"'()'.*9\", \".'!'.,..\", '', '..', \",'\", \"'\", '!.....', \".'.\", '?', '..', \"'2...\", '!.£1000.09064012160.52.12.150', \",...,','......?\", \",'''!!''..4...\", '2£10004*()20871277810910/(18+)', '!--!', \"...'..\", '!200407742676969786.08719180248:45239', '!.£20005/9/03!090640197884229,150', '-&&', '7548$350.087123002204041', '.12', \"üü'?\", ',.', \",'..,.',.\", '.', '.?!!', '..:)?', \"'.\", ',..', '.', '!?82277.£1.50:', \"2?2?'69888!.2.31.@150\", \".'@.\", '.', '.', \"'.:69988&\", '......ü......', \",'\", ',.', ':\"4..\"....8', '.?', '', '?', \"'?',,..08700621170150\", '...', '..?', '..', \"'..\", '22.', '......', \"'()'.*9\", ',,,.,.,.,..,,,,.', '?', \"'...\", ',.??????', '..07046744435', '2£10004*()20871277810810', \"'\", '.:):)', \"'.'..\", '-(32/).-434-434:..//?62468', '.2.,../', '.', '!.£900.09061701939.89.12', \",'?\", '..', ':):).', ',.', '.....,4......', '?', ',.,...', \",'.....\", \"'\", '?', \"'~&;#&;,$&;#&;\", '.', \"!.'..\", '...8', '..', '..', ',?', '.', \"!???'??\", ',', '080814547429-11£1000£5000!', '.', '.....', '?30....', \"'.'....|\", ':):)', '..', \"?'.8\", '', '', '?1?', '?!.:)', ',&;#&;,?', '&;#&;', '', '&;&;.&;&;.&;#&;.', '.', '11.', 'ü...', \",'''!!''..4...\", ',', '&;&;', ':)!', \"',..\", '', ':):):).', '...ü...', '!?', '.', \".'.\", '?..', '3', \"..'..\", '..', '.....', \",'\", '......', '5002004,!::89545&!£1.4-.2087187262701.50/18', '..', '?2?2,,..', '.', '...&;,&;....', '', '.&;#&;.', '', \",'\", ':)..', '&..410.&25.18-@', '.&;#&;', '', '??', \":,......&;,'.!\", '4478012592312-*-09058094597', '.', '', '.,.,.', \"''.4','...\", \"'?\", \"..'\", '', '2.', '.....', '500125&210087066..1150316', '5', ',..,!......', '??', '3,2..', \"','\", \"''\", '...', '?...', '?750???08000930705', '‘!!!!?', '', \"'...\", '.0125698789!*', '6969815069698', '.', '.', ',', '!25!4.!?87070.150/41146452', '..?', ':!.', \",'\", ',..', '500.4.!86688:.100-.', ',1', '..', '...', '', \",'\", '.?', '???', '?', ',.....,,--..', '.', '...', \"','\", ',', '..', '2?', ',,,,:-)..:-)..', ',.,....', '?', '?.', '.4.', '', '..', \"-&&.08450213680.28.&'\", \"'\", '...........', '.', \"?''\", ',:', ',..,?', '!?', '', '.4!:121/,.://..//387!-4', '.........', '?', \".'.\", '>,,,,,82468', \"?'\", '..?111', '?£200,85222!&84,263.16+.1.50/', \"'''\", '2,&.&4..', '..', '.:).', '...4...,...,...', \",':(\", '!11+?!08002986906', ',...', ',**', '......', '82&41.', \".'.-.!\", '.?', '....', ':)?', \"'',,\", \",'\", \"'..\", '.:)..', '..?.', '1!08448618585..!', \"'...\", '!£1000!83600.150/.:08718720201.', '-!,?', '.?', '..', \",'\", '?...', \"'.\", '!1000!..', '?', '.', '.', '.......', '....', '.', '?.?.69876.1.50..', '..', \"','\", \"''\", \".!,?,,'\", '?', '&;#&;5..', '....,,.', '500125&210087066..1150316', '-500--86688150/.:08708800282/342/2/16', \"'.,.',.',.\", '!,-!.', ':-):--)', '..', \"'\", '.....', '!???,...', '..', '_-!,&&!&1000.8080008394022/4=', '176781......08717205546', '??', \",'\", '....,....', ':)', \"'&;#&;..\", '.', ',91.4.09057039994', '', \"..'.:)\", \"'**\", '', '.....', \"'.'.''.'.,.'..\", ',', '.:-).', '...945+', '46.,.8080008394022/9', '3', '.', '', '4&4.11?08000938767!2', '..?', '...?', '??', '.', '..', '7.30??', '...', '.8...', \"..'.,.\", ',..,,..,.,.', '......:-)..', '8713187131!?08452814032161,3£150£', '.', '.', \"'\", ',&;#&;', ',', \"!.'.+?\", '!??', '', ':*:***:*.', '', '', \"...'...,,...\", '=', '100;0906401210333438', '.', '', '£25080086.18&...', \",',\", '2-2.120712345678987077!36504454150', \":)'.\", '!09111032124.12146150', ':-.', '!£2000.09058094455.3030.12', '.....?1.2.3.4.5.6.7.8.9.&;#&;.&;#&;....', \".'.\", '....', '?', '7..ü..', '...&;#&;..&;#&;..', '.', '', '!365009066382422150316+300603428413', '?', \"?'&;&;#&;\", '&;#&;.&;#&;&;#&;?', \",'\", '', '~,50.', '..', '....:)..', '&;:(', '.........', \",'\", '!,??', \",,','?\", ',,,,,.', ':-)', '...?', '10...', '!', '', ':):)??', '..', \"£500-£75,000.+.?.08001956669''\", '..', ',.\\x92\\x92.', \"'..\", '1.20..,,,', '...', '?', '..', \",.02071539153.26.&'.-\", \",'\", '', '!..?&;#&;:)', \"'?\", '?', \",.'42.\", '..', ':4*#5000!09061743806.32625150', ',?', '.,.&;#&;&;#&;..9...', \"2?2?'69888.2.31.@150\", \"-'1......9:)\", \"'\", '....', '???', \",8'?\", \"'?\", ',', ',,?', '...', '!...', '', '1.', '500&,.07781482378.', '.', '.,,6.2', \"'?\", \"',\", '!12.09061209465!,3,3,4!420-4-5.150.!', \",'\", '&;#&;?', '??', '...?', '......', '..', '7,?', '', ',1--.', 'ü?', '.', '....?', \"+123-'£1450090500023114280703.&/08718727868.18150\", \"''.2..\", ',?', \".'..'......|\", \"'?\", '?1.2.3.4.5.6.7.8.9...', \"8,'\", \"..'....'\", ':)', '....', ',403£500!::83355!15150/18+', ':).', '150##31.2.3.6.8.4', '://..', '.,,..', \"'..\", \"'.\", '', '', \"',?\", '!:.£2,00002/09/03!2!0871-872-975595', \"'4.'.\", \"'!£150!85023!,!08717898035.£3.00.16.\", '!?', '24.750', \"'-\", '!200307815296484800-....087187380014178218/11/04', '-......', '.......', \"'...\", \"'.8.,..\", ',!?.,', ',&;)', \"'.\", '..', ',.', '..@50/6/&162', \":'',.........''\", '....', '4..', \".'.\", '?', \"..'\", ',', '&;#&;..', \"5.'..\", ',...,...,', \",'-\", \",'\", \".'..\", '‘‘.‘‘', '..', ':)??', '.', '!..?', '......,......,.....', \":)'..\", \"4'...\", '...', '!.£1000.09064012160.52.12.150', \"...,?'?.........\", '2,2?', '??', ',,**...', '!!!', '?', '42.........', '', '?', '.', '4...', '?1,000?2,000!,09050000327', \"'.,'.\", 'ü45..', '£5000,09050005321.', '.&;,.', '..ü?', '', '75015008002988890', '-.?', \"'...\", '1.', \"'...,?......\", '', '', \"',\", \"£250:80878.'&'.-2-.08715705022,1150/\", '2000!08712402050.10.16+.&.', '!200307753741225800-....08715203677:4247824/10/04', '?', '.,.!!!...', '!?', '', '.08005420825!', '...', \"''.\", '......:-', \"'.'.\", '?', '.', '...', '', '@228/5.2!!!:07946746291/07880867867', '', \"'..\", \"',.?\", '22!2004.83222', '......5.-?', '', '422.', ':).', '.1...', '....', '..', 'ü......', '...', '&;#&;', '.....', \"'\", ',,..', \"','\", \",'8\", '?', '.2.', '24252..89693', '4882£350.09064019014£350.', '.', '!', '.', '.–.', ',2,://.-../&.280062.', '...', ',!.', 'ü...ü?', ',?', '.', \",''\", \",,'!'!!\", '', '...', '!.‘‘.', ',&;&;..?', '?.', '!2003800-....08715203694:4053331/10/04', '..', '?1,000?2,000!,09050000327.&:,73.150', '!.:)', \"'...!?\", ',?!', '.', '', \"'\", '..,.', '', '.,.', '888008903408718711108', \",.,.,.,3...'\", \"'?\", '...ü...', ':-).:-)..', '!;)', '../?', \"'\", '&;&;:)', '!', '?', '-!', '.0819:\",.!!!\"?62468', '1!.820£1.5020845281007116', \".'.,'..\", \"'&;#&;,?\", ',..', '?!.?', \",?'.'4...\", \"'\", \"..'.'.\", \"''?!\", \"ü4.'8\", '4?', \"'.20..-'.89555.2115018+\", 'ü4..', '?:)', '..,.8', ',.....', '..', '<448712404000>08712404000.', '?', '.4?1405,1680,1843.21,..', ',..', '.?', '.', '..', \",'?\", '…!', 'ü...', '....', 'ü?', \",'\", '', ',?-?,!', \"...'...\", \"',\", '', '...12...', '-,2../.', '4&4.11+?08000938767!2&', ':&;2....1...:\",..........', '', '0871471238810-710', '.,.', '..', '.', '+449071512431!2!£1250090715124334050703&423513.150.£7.50', \"?......'.3748\", '£1000£2000.0871471239410-7', '....', '?', \"'...\", '.', '', '.,.,.?.,..', '!...!', \"'...1.........\", ',8', '..', '.', '::2:-123', \"'.!\", \"'=\", '....', '...', '', '..', '.:6650£10!::81151&!4&150/', '!', \"'......\", '..', ':).:', \"..….'87...\", '..', '..', '.930.', ',...!', '£31082324.08706091795', \"'?\", '.', \"40,'?\", '.', '', '', \"-':)?!\", '?', '**', ',,,!!', '', \"//,'\", '.2,2£794.08704439680&.', '.,?!..', '£500!0906636832704/09/023951£1.502-73427', '............', '\"\"..', '£200.88039..087147403231!16£1.50', \"',,4...,...\", \",'\", '.', \"!'..'.\", '!', '!!.4.?', ',', '&;#&;.', '..', '.', \"''\", '.!', '...', '', '?1.2.3.4.5.6.7.8.9...', '...2,3......?', '?', '.08005420578!', '.5', \"','\", '...', '?.(100/)', '5087018728737,.,81618,£3.08718727870.', '', \".'..\", '4:-)', '??\\x92!!!!!!!!!', '.!!', \"'.'-.?\", \"'.\", \",.02071539996.14.&'.-\", '', '4.', '&;#&;', '!£150!85023!,!84,263.£3.00.16', \"&;&;.'.\", '1!148077....365044516+150/', '£200£100008000407165(18+)288222.214', \"'4.\", '3', \",'\", '..', '', \"'.'.\", ':).&;#&;:)', \"'.'.\", '£500&2£10087066..1150316', '.', '5120.2,./2,', \"'?...?\", \",'.'\", '', '', '!?2!?&\\x922.', \"!'???****\", '', '.,..=39,.08702840625..220-29', \"254'.8.8007:087014170122.\", '!', '.....**...', '..', '.?', ',&;#&;', '...', '..09065174042..1.50.07821230901', '3\\x921!', ',,://.-../&.,80062', \".,..'!.!\", ':)', '...........&;.', '75015008002888812', \",$&;#&;.'.'..\", '75008000930705', '2£150-85023!-08717898035.£3.00.16.', '\\x9222', \"',.\", \"'..\", '!09066350750.4*10,000&4343815018+', '.:)?', \":&;#&;'.''\", \"'..\", ':)...:).', \"',.,\", \"'!£150!85023!,!08717898035.£3.00.16.\", '?2?', ',!...', '.', '!!2.', \".'''.\", '!!.83110.', '?', '.&;&;..', '?', '', '..', '', \",,?'\", '.', '', '09061104283&..£1.503', \",'\", '!200307808800-....08719899217:4168507/11/04', '..?.', '?100&?08000721072!', ',!', '........', \"'\", \".'.\", '...!!!...!!!--&;#&;', ',,10,5,£500£100,,09064011000.01327150', '?', '!?82277.£1.50:', '2-*-09058094565', '2-*-09065171142--08', ':.://../.', \",.',2..,,.\", '....?', '', '.', '.', '..', \".?.'.\", '', '.', '?', '!?:)', '.......', \"'''.4.\", \"''&;#&;\", '-\"..\":-)', '.', \"'.''.,.\", \"?,,'\", '.\"\"85069..,5249,1792.45016', '..', '..', '?,', \"'...\", \"',\", \"'.\", ',,,!!!82468', '..', '', '!,08709222922.1.5/7.8/!08712460324(10/)', \"!'?.\", '.', \"'..'.'..':/\", '..', ',.', '', '.', \",...,\\\\'..!!\", '??', '.', '', \".'\", '..', \"..'..\", '....', ',..&;#&;', \"'.1.'.\", ':):)', '?', '!!!!2288600£1!1503+40311', \"''2..':-)\", '.', '', \"'?\", '09063440451,4*£1000.150&33438.', '...', ',,,.', ':).?', '!09061749602.4*£10,000&52820115018+', '....', \"'..!:)\", '..', '?!(150/)', \"'\", '.,.,', '!?:)', '-500--86688150/.:08718720201114/14/1', '...?', '', '?', \",'\", '......', '..:\"....\"', \"'\", '', \"......4...'2...\", \"','.,,,\", '', \"..'!\", '@', \"'?\", '!.£800.09050001808.95.12', ',&;&;..?', '?..', '', '&;#&;.', '...', '?........', '.', '2.152,?', '2,..?', ',', '.', '?', '...', '2!', '', '..', '..&;#&;.', '..', '..', '*.', '!23.09063458130!,,,.', '.', '', \"'&;#&;\", \"'.&;#&;:)\", \"...,?.,'...**\", '.ü.67441233.8,22,65,61,66,382.,.615.è', '...', '26', '!7!?5.', 'ü...ü......', '......&;...', \"','!\", \"...'...\", \"'..\", '....?', 'ü4.üü.', ',', '....', '080814547429-11£1000£5000!', '....:)..', '&;#&;?', '.', '', '&..&&.8080008394022', \"'.'.7.30'?\", ',,,,&;#&;.', ',.&;&;,', '', ',?', '...ü...', '...', ',..?', ',....?!', '1!148007...3650445150/16+', '.', '.......', '...', ',!!,....-', '!!?09065394514128261150/18', '?', '', \"'?\", \".'\", '.', '?:', \"?,'\", \",'\", '..', '...', '.1', \"!,.''.'!!\", '222', \",'????...**\", ',', \":',,,...:-)\", ',\"\"..,,,:-)', '..', '.', \"'.\", '?..', '!\\x922!?', '.09058097218.6,15150', \",'.\", '1!:\"2..\"', \"1000'!&&,188007!\", '2!\\x92?', '182004!.83222.', '3?', '4?', '!,!', \"'\", '21.+.!?2.', \"'.\", '.', '515.?', \"':'?'\", '.?===8402542£100/15016+', \"':)..\", '2....', '...!.', '-.!18..150', \"','\", '2.', '..', '...', '2!?09058091854.38566', '...', \",'\", '!.£800.09050003091.52.12', \"'.!86688\", '....', '', '......', '..', ',', '', '...6', '.', '?', ':-)', '!!!', \"............'.........\", \"'.,2.,4..9;-)\", \"'!\", '', '!09061221061.28.177.221.2.150.16.£3.99', '&;&;.', '!£200009061790121.303012150', '..', '?', \"'..,...\", '.....', '..', '4£100.?80062', \"'.'...'..\", '!!?', '.??.', \"'\", ',...,', '...ü...', '...2.', '2.!2://..', '.', ',.??.......**', \"'\", \"'...:-)\", '.......', '', ',8?', '', \"',?\", ':).:)', '.', '...??', '449050000301£2,000!,09050000301.', \"'42.\", \"?,80155,'!801553650445150/16\", '??', '75015008000776320', '.....', '!?', '2...', '!5002.280160&.43.1.50', '...', '\"....!!\":,.;-):-', '-£500--186688150/', ',.', '?..', \",'\", '!?', \",'''!!''..4...\", \"?4'.\", '', '1...08707808226.', '...', '*?', ':*:***:*.', ':)?', \"''.86688'!150/./342/2//16.18.\", '??', \"'..\", '......?...2:-(', ',.!8412208450542832', '?...:-(', \"...'?\", \"'...!'.\", '', '(?)', \",'\", '...', \"1000'22&24.4?69911(£1.50.)\", '?.', \",'\", '......', \"'.'..\", \"!'...:/\", '...2000...', '', '.', \"2212005.87121()&'0845281007518'\", \":,......&;,'.!\", '..', ',', '', \"'!\", '....', '.4..@', ',', '2?!61200(25),../&!', '!', 'ü?', '!5.', \"...2.'4.?\", ',2,2?', '..', \"','\", '.', \"':)\", '?', ',&;#&;', '?', ',?', \"'.\", ',&;#&;.', \"''\", '...', \"'\", \"'...\", '..', \".'.\", '!88600.!..4.16£3/087016248', '......', '1.08719181503', '..', '..', '&&?2,.', '&;#&;.&;&;&;#&;&;&;:&;#&;', '-..', '', ',2.', \".'.\", '4£500&£10087066&...16+11503', '!..', ',!,:88600.150/,.30', '...', '', '.', \"'9?\", '', ',?', ',.,,!!', \"'!'\", \"…',,?\", '1.08719181513.', ',', \"....':)?\", '..,5..', '.14!87021.1!.150/.164', '.', '..', '', '2£10004*()20871277810810', ',1..', '.1.:08700435505150', \"ü'?\", '£25084128.18&..08712405020.', \".'.\", '.&;#&;.', '*.*.', \"1'.\", \".'.\", '-/@-:0-^2!2', '?1.2.3.4.5.6.7.8.9...', '?', '?', ',!', '...', '2!.?', ',:)?', '', \".'.:/\", \"?'4..\", '', \",!'2.!1!\", '..?', '!2-14,!,.8.', \",'.,.\", '..', '08712402779', '', '......', '?', '..', \"..,'..\", '..', \"'.\", ',', \",''.:\", \".,..'!.!\", '4,.0871873055510/.08712460324(10/)', '.....', '', '2\\x94\\x94-&,!', ',28?.', '..', '2?2090961023162£1/45139', '.,.', ',..', '', '...', \"..&'80488.\", \".'..\", '2?', '...', '', 'ü5..4ü2..', '42...?', '.', \"'?\", '\"...!..!!:-):-)', '..', \".'.\", ',', ',..', ',???', '!', '......95$95/,$5016', '...ü12...', '!,?', '...', '......', '.?', '.', '!.', ',8??', '–', \".'?\", '.', '.-.', '232.,-', '.', \"!'.\", ':)', '2+2+!..!16+?:09701213186', '3,44.42...,.3', '..üü.', \",!'!\", '.,....', '...', '2!.?', '?', \"2..''.\", \",,22,,&;'.:-)\", '.', '“(5),5-!', '...', '.', '.,?', '...,?', '....?', '5010..ü?', \"..&;4'\", \"'\", ',,', \"£500.:''80'?283600.!\", '4..', '.', \",'\", '', \"'.......\", '......,...', '!,?!**', ',..&;..:)', \",4'\", '?ü...', \".'?\", '....', '.', '6..', \"'\", \"'.ü.''.'.\", '', '', \"?'\", '.', ',.?', \"2'!89080,!4..0870241182716£3/\", '...', '?', '....-2.', ',..', '!!?5...', '', '', '!??,', '?4..', '&;#&;%....2,....&;#&;&;#&;...', '', '2???', '?', \",'....\", \"...?.'\", '0870750902020,1327950870..', '6.2', \"',',…\", \".'--!\", '.', '..', '–?', '1)2)3),4)&;#&;.5)....:)', ',,....,08718730666(10/).208712460324', '5002004,!::89545&!£1.4-.2087187262701.50/18', \"'\", '', '&&1/2.8.080008394022/56', ',..', '.14!87021.1!.150/.164', '', '....\"....\"!', '', '.........', ':,\"\"??...\\'..!.....??\"\".......:4,......@', \"'.'.?\", '4.', \"'2!!.\", '..', '...,4...,.', ',????,', ',', '...,4...,...', '..', '4?', '!.', '.', '4...2...', '?', '..&;#&;...', ',', \"............'...\", '..&;#&;...', '.!', '.', '....?', ',2.!2://..', '', \"',\", '', '.', '...&;', ',..,!......', \"'.!86688150//342/2//1618\", '?', '', '....', '.........', '..', '...:-)', \".'.\", '?', '£500&2£10087066..1150316', '.', '....', \"'&;#&;\", '...', '??4!', ',\"\",\\'', '-.!', \"''.!!!\", '-\".\"', '.', '!.', '.', '...', \"'!',.\", '.4....', \",'?\", '?', '............:\"&;\":)', ':)..', '.,?', '124240£250.84128&..08712405020.', '', '', '2.30-.', '‘‘.!', '4£100800621', '2.', '.', '!ü?..', \"',\", '.', 'ü..', '!?.2.08714742804', '..?......', '&2?090997258232£1/45139', ',1--.', '3', '..(),..:-', '.!.', '09066362231!07£2,00002/06/03!2!09066362231!', 'ü...ü...ü...', \"'.'2..\", '07801543489,403£500!::83355!--150/18+', '&;&;.&;&;.&;#&;.', '.', '&?209099726395£1/17751', '77654321\"\"...', '', '..', '–,?', \",'?\", \",,\\\\',,,\", \"....?',!\", \"'.24?\", '', '..', \".'4'.\", '?', \"',\", '...', '...', \",'\", \"('',)\", '!????,', '..', '.', '..', ',!..', '500.,::80488&.80488.', '..', '..........!', '...', '..?', \"'.....\", \"'.&;&;\", \".,'\", '.:,2.2.?/.?', '-.', '0870750902020,1327950870', ':)?', '&;#&;.', \".'\", ':)', '...', ',..,!......', '', '.....', ',?.?:)', \".'.?\", \",?',???.,...**\", '!', ':):)...', \"'?\", '...', '...', '.', '..', '!£2,0001/08/03!2!0871-4719-52395', '.', '2...2.', '...', ':)?', '.', '...,?!,...', '..', '..', '', '?', \"!'!!\", \"'''.\", '......', '..', '7250..86021./342/2/116+', \"'?.!!\", '..', '', \"'''?\", \"'\", ':......&;....', ':)', \".1',,1020,.:.../\", '..', ',!???,??', '......', '......', ',', '.', '()', '..', '...', '.', '.?', '20.', '..:-)', '?', '...', ':::::\"4\"\",\\'......', ',?', '....2.', '.', ':)', '.9', \"&;#&;,&;#&;3&;#&;.'.\", '.', ',.', '..?111', '.', ':-):-)', '.', '-500--86688150/.08718720201/342/2/16', '-72504!2&!86021!/342/2/16', \"'.2.\", '.........,...', \"..'?\", '.,..', \"?'....1.2.3.4....&;#&;.&;#&;.&;#&;.&;#&;.&;#&;.&;#&;.&;#&;....&;#&;.&;#&;.&;#&;.&;#&;.&;#&;....&;#&;.&;#&;.&;#&;.&;#&;...&;#&;.&;#&;.....\", ',?!', \",'?\", '', \",',&;3\", \"',&;#&;,'\", \",'\", '.&;#&;2...', '', ',.,,...', \"4.'\", '.....', '4.....,.......!!!;-)', \"'.:)\", '', '!2003800-....08719899230:4168507/11/04', '...!!.:', '.', '4£100..80062', '!£2000.09061790121.3030.12150', ':)', ',', '.?', \"/'\", '.:-)', \"?'2.2?!\", ',,,4', '.', \"...'...\", \"'421'2...\", '??????', '*?', \"'\", '645', '->>?@..0870123739716+...!!', '.2?', \".'!\", '', ',,', '?', '2$&;#&;', '', ',!!......,...,...', \"........,''...:-\", '2-*-09058094599', ',,‘?', \"500.80488'\", \".'.'..\", '.?', '1250-!£350!,02072069400.526,73', '!...', '!?', '2.6..', \".2'.\", \"!'...**...\", '..', '4,80078007:,,,,...3650445150', '..,....', \",','\", '0$,\"\",...', '..:)', ':2!?8224215020871231760682242', \",',\", \",?''','?\", '', '!!', ':)', '.8.', '..', \"*.,'…**.!\", '......&;....:)', '.', \"...'.\", '.........', \"£250:80608.'&'..08712405022,1150/\", \"...'...ü......ü?\", '\"\"..', '7.', \".'.':)\", ':-):)', '!2!£1250090715124334050703&423513.150.£7.50', \",'?\", '..', \"',?!\", '4209099726429£1/17751', '.', 'ü...', \"......'...\", '', '.', '...,', ':\",:-(\"..:-)', '!1', '.', '!.£800.09050001295.21.12', '..391784..', '', '-\"...,..\"', \",'!'£6,?\", '?', ',....!', '\"..\"?...', '...', '?', '!9.', '', '2', '.', '0089()£350.09063442151£350', '--1-81618-?3--08718727870', '.?', '', '!?82277.£1.50:', \"''\", '!...', '8.?..', \"ü'...ü?\", '.........', \",'\", '...', '.,81303..', '...', '', '......', '10!', ':-', \"?..&;'.\", '.ü?ü.ü?', '!!...', '...', \"'?,?'??\", '......', \"(,')\", '!?', '.', \"12160/..09094646899!'.189613\", \"'\", '??', '..9?,!', '!.2007.&-.81303.@4.', ',,...|', '......', ',1--.', '––––.', \".!'\", ',,2&,\\x91,12,000,£48,,.', '2&;#&;.', '.&;#&;', '!22?!!.', '', \"'()'.*9\", '', '.', '.', ',?', ',...£5000.00.....0904194022329/03/05....', \"'',\", '', '', '.', '.:-).', ':(', '2!08081560665£200018+.07786200117', '!...', '!../.....4..', '!', '!09111030116.1214615', '\\x92.2,!&.', '....', '.', '..&;....&;:)', '', '....', '*2', '', '.?', '?.', ':):)', '.', ',,,.', \"'...\", \"'5?\", '....?', '....,.,..', '..........', \"'.'.\", '07734396839:6600£10!::81151&!4&', \"...'3230'...'$50...\", '7250..86021./342/2/116+', ',?', '.', '....2.2...', '...', '.:)', '!?,.!', \"',\", ',1..:-)', '?', '08005420578!', '42.0()2../4+.', '77654321\"\"...', \"£500-£75,000.+.?.08001956669''\", '!10#150.09064018838.132718+150', ';-(,', '..', '.', ',.,,...', '..', '..?,&;..!', ':).:).', '', \"''\", '...', '\\x924.\\x922+&\\x922.', ':!..!,.-82050..', '.', '..', '??,', \",'?'\", '?', '..', ',:)', '.&;#&;...?', '', '...ü?', \"'..\", '&;#&;', '....!', '1225£50.087123002203100', '..', 'ü............', \",'\", ',#??', \"ü2?'?\", '46...2..', '.', '.', '...2...?', '??', '3!!)', '?', \"'....\", \"'(')\", \"'\", \"'.\", '.........??', '', '!!!', \".'...,&;#&;.'..,.\", '....', '', '!!,89555!15069618', \"'.\", '-.!!', '?', '?', '', '*!', '?', \"'.\", '.121.6909050280520,25.,8027,13', '?4.15.--!', \".'\", '.', '?', ':)', '..', '.|||?||.||.', \"!'!!\", \"121/2,500-&100/'*.8080019503822/3\", '.', ':)23.', '?ü...', '6850.650.', '22.750.2,08718726970!10.--', '...', \"'...\", '.:)?', '.?,&;,.&;,,,...', '..', ',.', \"'.?\", \",'\", '.....', \".'.',,.,'.'.,'.,.,,,.',',,''',,'..\", \"'\", '', '..', 'üü?', \"......!!***'***'...**\", '.', '', \",''\", '.3', '.', '£1000£2000.', '!', '500.4.!86688:.100-.', '.:)', \".?''!\", '', '2-*-09058094594', '.8.', '..ü?', \",'.\", ',.......:-(', '!?:)', '..', \"0776'.!86688150//342/2//1618\", '!09061743811.4*£5000&32625150', '..', '6.', '.!.', \"'\", '09090900040&[]6024/70870753331018+', '', ',1/,&,(18150/2)', \",'\", '..3.', ',.?', '4?', ':)', '???...', \",'\", ':-)', \"2.80182()&'0845281007318+\", '............', \"','\", '..', '?', \"?'??\", '?', '&;#&;...', '.2..', \".'.'.\", '?', '24252..89693.087155000222', '?', '.', '.....', '?', \"2...?4'..\", '', '.', \"'4-6......'...\", '.8.?', '', '&;#&;..', \"'.&!',!\", '!', '08702490080-209066358152£5000.2&@.!', '124240£250.81303&..08712405020.', '', '..:-)', '', '?', '.', \"'??\", '\",\"', '\\'\\'.\",\"\".\"', '!?', \".09090204448.1.'1.£1.50278\", '3.', '!4*£5000.09050090044.,,334,,38,£1.50/,10', '...:):)', '.2.:(', \",'&;\", \"ü10:10'...\", '', '.', '.', '2..', '..', '......??', '2?', '............................', '..', \"','\", '...:):)', '.6.', '...,,', '', '!!?09065394973128261150/18', '.', '80488.500312005.', ':):).', \":*'*&;:*,*:!+++:)\", '...', \"'?'?\", ':-', '2......', '£200£100008000407165(18+)288222', \"'...\", '..', \"..''…!\", '.', '.??:)', '.', '', '£100!2006?87239', \"'...'.\", '!', \",'\", \",'.&;#&;\", \"...'.\", '...&;#&;..&;#&;..', '!09061743810.4*#5000&32625150', \".'..2.\", '..', '....', \",'\", \"'\", '', \"?.''!\", '.61610.:087124006024502..', '...', '?', '', '', '4,2&£504&-2', ',......:-(...,', \"'?\", \"'2.2.\", ':)', '>-!&...', '.........', ',&;&;.', \"'.\", '.2.', '.87..', '', \"'.,**','.,,',.'.'.\", '.........', \"..,.,'??.'.&;#&;.'1.\", '..:\"....\"', '!08006344447£1000£2000.!', '......?', '4!!4', ',?', '.,', '', '63.', '2...', \"'','\", '£10087066..,1,16.150', '?', '?...', ',-…!', ',', '4.47!', '2', '.', \"',?\", '......,...', \",'....\", '', '', '..', '.', '', '?', '..,9.', '', 'ü?', '4,', '4&4.11?08000938767!2', ':)', '.......', \",'\", '..', '', '2.', '.?', '..&2..', '09094100151!10/().,5/.61,601.18+!', '...1034...,...', '...', ',.', '..', ',..', \"'\", \"'.\", '..', '!!!!!,...', '?', '!***********£2,00002/06/03!2!09066362220!977,150', \"!;'.;.;.;.;.;.;.;'.;\", 'ü...', '..', \"'\", '..', '4,80078007:,,,,...3650445150', '!..23....23.', '..&;', '', ':250-84025!22.250.1.50/.&139,32.16.', '.........', '....', \".',.\", '-2.242!', '85233>!', '', '..', \"'.'.\", \"'...\", ',....', '.', '.', '.', ',\\x92!?!28?.', '!!84199!-.39822111£1.50', \"'.'.--'.',',','.,'.'',.\", ':-):-)', \"'\", \",,'..'\", '!£150!85023!,!84,263.£3.0016', '!200407742676969786.08719180248:45239', ',?', \"'...\", '', ',69:(.?', '.,..=*****..:08700469649.420.45', '..:-)', '530..?', '', '..', \"'/\", '?', '....', \"...',!?\", \"2'!89080,!4..0870241182716£3/\", '&;#&;.', '', '.22..', '£1000£2000.087123002209-7.10', \",','\", '.,113,,,.!', \"'!;\", \"',\", '....', '£10087066..,1,16.150', \"'.\", '3,-', '!;)', '.', \"+123-'£1450090500023114280703.&/08718727868.18150\", '..:\"....\"', ',-.', '', '......', \"'!\", '.', '..', '...:):)', '4/27/03..4...08717168528', \"..'.,...,,.\", '..', '(),', '!', '.', '.', '..', '.', '..', '', '!!\\x92!!2!', \":-'.25..2!08700621170150\", '.,113,,,.!', '?', \".8-8:30+.',.\", '', '??!', \"','\", ':):-)', '', '', '3', '..', '.?..', \"-'.'....,'''!!''..4...,''?'''''',.5...,,,...!!..........'...!\", '...', '1!1487077.3650445150/16+', '...4.', '.', '1)2)3),4)&;#&;.5)....:)', '!!?', \",'\", \"'4.\", '.,.', '.', '.', ',,10,5,£500£100,,09064011000.01327150', '.8,2.,.42', \".'\", '', ',??', '?', \"'.\", ':)', ':)?', \",.'.\", '&;#&;.', '!???,...', '.', '?', ',,,......', '', '...', '', \".'.\", '4.49/750.1/2.080019503822/', '10...ü?', \",4,'6.302,.\", '..', '!.2....', '..', '', '-.-.-.-.-.-.-.-.-.\"\"', \",'.?\", '', \"'.4?\", '...', \"......'...\", '2.:\"\"', '(,)', '!?:)', '......', ',,?', '!07£2,00002/06/03!2!09066362231!977,150', '..', '!!4*£5000.09050090044.,,334,,38,£1.50/,10', ',', \"'\", ',2!!', ',?', ',2..', \"'...\", \"..'....'\", \"'...2?\", '*', '!:)...', '£1000£2000.0871471237910-710', '......', '', \"...'.\", ',718.£4.50.09065069120', '...,,...ü...', '?.?', '..', '...?', '', '......', \"...,...'...\", ',..6..:-)', \"'..\", '', \"'?'\", '.?!2-&1-\\x94\\x94.\\x92;,2!', \"'.\", \",'..\", '..', '&;#&;.', \"''\", '?', \"......'2.\", \"'.'.\", '.', \"'\", \"4?'..,/..!\", '22!2442?09099726481£1/17751', '?:)', ',836.£4.50.09065069154', '..', \"'';)2.?\", '?', '?', '..', ':\",\\',......,\"8', ',', '.', \"-'.'....\", '.', ':10008!300.-', '4?', '&;#&;', '4.401223585334.28552.28552', '....', '.', '<88877>£25088877.18&..', '...?', '88066880663', '', '?', '..', \",'4.'?\", '.', \"?'\", '?!', '....', '!?..?!=/', '......$700...2-$900...', \",'\", 'ü?', '.,.', '', '...', ',!', ',.', '..', \"''8\", '', '11?&.8080008394022', ',?22.', '', \":-('!\", '..3.', '1.08718738034.', '..', '<21870000>-.4.21.09056242159', '?:)', '.', '!12.09061209465!,3,3,4!420-4-5.150.!', '.ü.?', \"&;#&;,'?'\", '', '&;#&;?', ':.8', '.', \"',\", '4£500&£10087066&...16+11503', '.£100?82277.£1.50008704050406', '2,1.?', '7250..86021./342/2/116+', '!£2,000.2,08718726971!10.--.', '@1..(),-..', '.', \"'\", \"'.\", \"'..\", ',..........', '..', '.', \"'.\", '...', '?', '.....', '.', '.', '......&;...', '!***************£200010/06/03!2!09066368753!977,150', '.:-)', '..', '....?', '', '.', '', '?', '', '!!', '@&;&;', ',', '.\\x92.', '.:)', '.', '&1/2-/-8080008394022/9', '1)2)3),4)&;#&;.5)....:)', '...', ',11?', '&;#&;', '.', '', \"'.\", '', ',10002.2.80082£3', '.?', '08712402902.', '&;#&;?', ',!??,...!?.!!**', '...', '.', \"'\", '&,800708701417012150/', ',....', \".'..\", \"?'.8\", '.£250.,!88088', '', '.', ':2-441@15020871212025016', '!2222..:-)', '@5', '..,.2,.2,.\\'?\\'\"\"\"\"2:-:;):8', 'üü,?ü?', ',....', \"...4.'?\", '!.£2000.09058094565.12', '...', '42!!!1!', \"'.4.\", '!.86688!150/.', ',.&;#&;...', \",.$&;#&;.'.'...\", ',8.', ':.\".\"...', '', '!', \",'\", '!09058098002.1,14150', '....?', \"'\", '\"\"...', \".'?':-(\", '&;#&;..', '?', ',..', \".',!.\", \"'...&;'...\", \",'......\", \"'...\", '..?', '?', '......?', '!.?', ':!4..!(4)', '.........', \"'\", '28.', \"'...\", '..!!\",..!!2..!8', \":&;&;.&;#&;.1,.2,.3,:,,.4.:.5.:.6.-:2.7.:2.8.:2..'?,.\", '', \"'.!:)\", '......2ü...', ',', \"''.86688'!150/./342/2//16.18.\", '....', '.', '......', ',?', '.........', ',...,,.', '..3908702840625.22029', '......', \"....'8.'.\", \"'\", '...', ':).', '!!!...-!!!', '!£1000!83600.150/.:08718720201', '&;#&;', \"..'.\", \"?...'.1/1\", '', \"'.....\", '.......', '..\"&;#&;\"\\'\\'&;#&;.&;#&;.4.&;#&;.&;#&;/-&;#&;.&;......\"', '......8...', '...', '4', \"£250:83370.'&'.-.08715705022,1150/.\", '2....', '.11.48..', \".',\", '!.', '', '&;#&;:', '!,!', \"()','''\", \",'\", 'ü......üüü...', '.&;#&;?', '?', '...', '....', \".'.?\", '..', '.24?', ',..?', '..', '...?', \",''\", '..', '...', '...', ',,......', ',.??,...**...:-(', '...', '...', '....', '?.', \"'..\", '*', '...630......', \"',\", '!£150!85023!,!84,263.£3.0016', 'ü?', ',&;#&;.!', '', '', \"'.'...',.\", \".'.?\", '&,8007', '!09066612661.4*£10,000&314215018+:', '.:):):)', \"!'!!\", '', \".'.\", \"'.'.\", '', '...', '..', \"2.:/'.'?\", \"..'....\", ',!.', \"..''..\", '', '?,', '!£900!09061701444.24.03530150', '..&;#&;..&;#&;-.', '...', \"&;#&;,'5\", \"'ü...\", '', '....', ',.??????????!??', \"''\", \",!,.'...**\", '..?', '?', '...', '...', \"???'825,78.....\", \"'ü......\", '.?', \",?,.-,'4\", '6230..83383.114/14/116', '&;&;.', '!.', \".':)\", \",'\", \"'.'.\", '..?', \".'..\", \",'\", '......ü4ü', \",'\", '£25080086.18&...', '.?,&;,.&;,,,...', '22?', '...!,..', \"'&;#&;\", \"?'\", '.', \"'.\", '...', \":)11'.\", '..', '?,,..', '', \"'...\", '6.', ':)?', ',89!.', \"..'.\", 'ü.', '', '..2....4,4.&;&;2&;.&;..', '', '.:)', '82228>>,.82228..:@82228..', \"'!\", \".'.\", ':):-):-)', \"'.ü.\", \",'\", 'ü.', \"'20...\", ',!(?80122300/::08704050406)', '...??', '.', ',', \"....'.2.\", '.', '', \",'7?\", \"....':)?\", \",.,.,.,3...'\", \".'...'.\", '?', '', '....', '.', '52.', '…‘‘…!', ',', '23.09063458130!,,,.420.4.5.150', '1!21.', '!', '1..', '??', '.4.', '......', '£383435.08706091795.', \"'..\", '3!!3!8555516!3,£1.50', ',1.', '.', '', \"''\", ',', ':):):)', \"'2!..69888!.2.3.@150\", \".'6?'..\", ':).', \"'('$&;#&;),?\", '6...', '‘,,,!', '!?82277.£1.50:', \"'.||.||'.||\", ',,,......', '......', ',..', '..,&;..:)', '', '', '!10:30?', '', '...4+2!', '&.2', \":-)!.'!\", '?', \",'\", '..,&;..:)', '800824£2504.&..16£1.50/', \".'.:-)\", '..', \",..'...\", '2.&;#&;2.', '.', '.', '...$700$9005...!!!', '<21870000>-.40.09056242159100/', '?', \"!'..??\", '...', \"'4.\", '..&;#&;', '\"\"87131..0870737910216£1.50/.', '..', \"'''\", '.........?', '!.,?9.,!', \"'!\", '!077£2,00002/06/03!2!09066362206!977,150', '.', \"':,\", ',.', '..', '!', \"'.\", '', '', '4...', ',403£500!::83355!15150/18', '!,.', \"!.'..\", '.', \",'\", ',@..,', ',,....-!!', ',&;#&;....', \",''\", '?', \",',\", '.', ':):)...', '...', '!!', '?:', '&;#&;.', '..?', '...', '?', '?', '?,?', '80071!148007...3650445150/16+', '', '?', \"*,,,.?!','.\", '.:-)..', \"2??'.69696!.2.3£1.50/\", '08000930705', \"..'...\", \"','&;#&;\", ':).', ',...???,??', '6.!', \"'!!'!!!!****?!****!!!!\", \"*'!\", '..', '9', ':1)-..,2)-..3)-..', \":&;&;.&;#&;.1,.2,.3,:,,.4.:.5.:.6.-:2.7.:2.8.:2..'?,.\", \"'...\", '......', \"'..'..\", \"...'4...\", '!.£800.09050003091.52.12', '....&;#&;..', '', ':)', ',&;#&;..', '-*218007...0870141701216+4/120', '930?', '!800,410&4.09050000555.128150', ';_;?', '!?...:-(...', '.', \"'...2...\", '?', '88066£12', '.', '&;#&;\"\".\"\".3\\'!4', \",'.',!'!.\", ',?', '...4.', ':?&.2583021.!', '.', '..', '-&4!808000839402!2&', \",'\", '.', '.61610.:087124006024502..', ',..,!......', '?', \"'......\", '....?', '.&;#&;.!', '-,&;#&;...,..?', '....', '182004!.83222.', '?.', '...', \"':).\", \"'!\", ',...', '...ü...', \".'\", '', '.', '09066612661.£50004*.&.2012.150.16+“', '!09066612661,4*£1000.150&28,74', '..?', '.', '..:-.', 'ü?', '?', '?', '?.', '..', '&;#&;,', '', '....', \"''.86688'!150/./342/2//16.18.\", '**!', '...', ',,...', \"ü4'?\", ':)?', '..', '', '....', '42.', '?2?', '?...', '.,', \".'.\", '.', '...', '', '.‘3', '?...,.........', '', '...', ':).', '.?,&;,.&;,,,...', '.,..!', '', '!5.69969150213', '.!', '', '-?21-', '.', '?', '', '?', '....,..', '?', '', '....', \"£250:80608.'&'..08712405022,1150/.\", '...', '.5.', '...', \"''/\", ',&;3', ',?', '', \"....'..\", '3,./?', 'üü.', '..|.', '’£504.08715203028.9£50-£500.08718727870', '…,.?,\"', \"'\", '.?', \"&;#&;,,&;#&;,&;&;.'\", '?;_;', '@&;&;', '', '...', \"''..\", '-,&;#&;...,..', '.', '...**', '>!', ':):)', \"'\", '?', '!11+?!08002986906', '!...', '.2.', '', '.', '.?,&;,.&;,,,...', ',,..', \"','\", '2..', \"'...\", '84280071:,,,:..365445300', '.........4...', \"''.....**\", \"-\\x93'0800505060.\", '..?', '..', '...2...', '....', '-£2,000.2,08712103738!10.--', '...', \",.'!!\", '.', '2-2.120712345678987077!36504454150.', '', '4...', '.!', \"'2004£800,090580998014190604,7876150\", '?', '.,()....,..', '..?', \"1'.\", '', ',*.', \"!!!!!!!!!!:-(......'......\", '...', '....', \",'?...\", '.1&;&;.6.', '.', '?', \"-:!!1,288888.63/!16+!&'\", \"-'.'....,'''!!''..4...,''?'''''',.5...,,,...!!..........'...!\", '=0870750902020,1327950870=', \"'..?.\", '?', '?', '5...', '...ü...!', \".'..\", ':,,,:,..,!!:,..,...', \"'......'?\", '.8', '..?,&;..!', '', '', '18', ',.,,,,,,,...!?', \"'''\", '()', '..', \",'...\", ',&;#&;', '-,&;#&;...,..?', '=0870750902020,1327950870=.', '..7.?', '!', '.', '..', \".',,..'.'.\", '()', '', '.2?69855,2450.13', '?', '!£150!85023!,!84,263.£3.00.16', '..', \"'.\", '?', ':):).', 'ü?', '!?', \"'\", \"'.'?\", '', \"''...\", \"','\", \"?2'4...?\", \"''\", '.......', '', '_-1000.,&&!8080008394022/!', 'ü?', '@5', ',8,7.?', '&;&;..', '-500--86688150/.:08718720201114/14/1', ',:.’’.', '..', '10', '.‘.,.', '.....!\"\"\"\"\"\"\"\"\"\"\"\"\"\"..\"\".', '', '...', '!£2000.09058094454.3030.12', '.', \",'\", \"'...'.'\", '&;&;.', '!.54>.4', '......2...', '?', '....', '..:-):-*', '?', '4\\x922,!!', ',?', \"'..\", '.', \"'..\", '.', '.', '......', '...', '?\\x92', \"'??\", \"'&;#&;....\", \"2%'...5+3+2=&;#&;9+2+4=&;#&;8+6+3=&;#&;7+2+5=?????...1..\", \"&;#&;?'4\", \".'730.\", ',', '\"\\'?!\"...**', '...', \"'...\", '.', '1.08712400200.', '4...', '.,!...,3.', '....?', '.08718723815.', \",'.'&;#&;.'?',\", '3!4?!', '..', \"'2:-)\", '&;', '?...:-(', '.', ':-)', '!£1,50027/6/03.2!08714714011', '.,..', \"'1\", '', \"'....\", '..09065174042..1.50.07821230901', '!**??????', '.', \"'...7..\", '!!', '.', \"',?\", \"..'....\", ',?:)', '&;#&;.&;&;&;#&;&;&;:&;#&;', '..,..', '.', '', ':&;2....1...:\",..........', '&!', '!', \"',\", \"',*!\", '2', ',?', '......2?', '!,&&!&1000.8080008394022/42', \"??..'4..\", '77654321\"\"...', \"?,'\", '', '!2,!', '......ü?', '£100!?87239', \"','??\", '?', '14!287575.1!.150/.164', \"','.,,,\", '0870750902020,1327950870', \".'.:):)?\", \"'.\", \",''\", '..?', '.', '....', '4', ',', '', '.&&!.@15018+', \",''\", '', \"'2004£800,090580998014190604,7876150\", '?', \"'\", '..!', \"£500-£75,000.+.?.08001956669''\", '_-12:400...8080008394022=5', \".....?'..'....:)\", ',?:-)', '-...', '269200&24@502.', '2..', '&;#&;.', \"&;#&;.,,,,,,,&;4.&;#&;,....'\", '..-', \"'\", '2?', '..', '.', '', '..', '.', '\"\\'\"\\'', '.?', '?', '.', '?:)', ',....', \"..'42.\", '...:-)...', \",'\", '&;#&;...', '......', ';-)..', 'üü...', '..', '\"\"..', '....:?:!:):-)..', '?', \"!??'?\", '3£33.65!', '6...6', \",''',?\", \"'?\", '..&,.3!-,!', '......', \"'..\", '', ':\"?\"..&;:..\"!\"', '....', '.', '?', '.?===8402542£100/15016+', '!', \"..'&;#&;:/\", '.!://....', ',&;#&;&;#&;...', '.....?', \"?'!\", '..', ',?,.15008712400603', '..', ',', '!!87021.', '..', '', '?ü?', \"'2.\", '?', '...?', '', \".'.\", '.=', ',...', '.', '', \"**...:-(...'...'?\", '.:)...', '...', ',.', '..:)?', '.2422?', '', '............', \"'..\", \"',..!''.,,....!!:)-).\", '-......', ':-)', ':!242.', ',...', '..../~//1323', '?5.30...', '..', '..&;#&;', ',?', '.', '......', '......', \"'\", '', ',......', \"''...?\", '.', '....&;#&;.,.', '...', '?..2..?', '.&;#&;..', '!2806.!8723908708034412', ':\",\"........', \"'?\", ',.', \"'-?\", '4ü...', '!.', '.', '.', '!', '!.?', ':)', \"2.80182()&'0845281007318+\", '.', '..', '1!882.80078007./150/20016+', '2?', '..!', '!', ',?', '.6.', \"!:!,'35.?32323.\", \"'!??!!\", '.?', '..', '!!!', \"'..\", \"'\", '?', '?', '!?1502', '', ':)5..', ';::::::1!:;-)', \",'\", '.', '...,.?,22...', '!.', '!?\\x928!.', \",'\", '!?.', '', \"12160/..09094646899!'.189613\", '.', '4.401223585334.28552.28552', '...', '..', '', '.', '?:)', '.', \"!'!'\", \"''\", '2.£1450090537500054310303.&/08718725756.140', \".!,?,,'\", '...?', '0870750902020,1327950870..', \",...,\\\\'..!!\", '.', \"',?!\", \",'\", '..2..', '?', ',,://.-../.&.', '..', '2!08081560665£200018+.07786200117', '...ü?', '.', ':-):-).', '?*8.30.', '&!!', ',....', \",,...!!..........'...!\", \"20%4'ü.\", \"!'\", \"3'.\", '......', '', '22.750.2,08712101358!10.--', '2&;#&;.', '2.\\x92.', '£200.88039..087147403231!16+£1.50', '?', ':)?', '!!', '.', ',.,.', '!..', '7...2...?', '..', '', '..?', '............?', '....', \"'..\", \",,''\", '.', '.', \"'..\", '1.4.21?', \",''?'''''',.5...,\", ',-!1(1!)', '...', \"'?\", \",?'?\", \".'.\", '!.£2000.09066358361.87.12', '..&;&;', \":)'.\", '!!...', '.', ',29.4.50.09065989180', ',!?,...**!', '', \".'.\", '...', ',,,...........,1-!2-13-24-15+-1.:-)....', '.', '!10020,000>1187575.150/,6,16+4', '-500--83600150/.:08718720201114/14/1', '.,?', '..', '...', ':-!;-)..:-)', 'ü:-(', ',..', \"'',\", '...', '.:)', '..', ':\",\"....', \"'.\", '...........&;.', '..', '!!....3:)6:*9;)?:', ',,..:-', '2,2,212', '*?', '', \",'.\", ',', '‘,?', '7......', ':)..:)?', '......', '', '???', ',,!', \".'\", '!£2,000.2,08718726978!10.--', \"'.\", \"'...'...\", '', '?', '.&;#&;?', '447732584351,3510?300+100+08000930705.', '&.*.?', '?', \".'-.\", '', '?', '1.08719181513.', ',.', '...', '...', \"..'.'.\", \".?.':(\", '..', '?', \":&;&;.&;#&;.1,.2,.3,:,,.4.:.5.:.6.-:2.7.:2.8.:2..'?,.\", ':):).', \"'......ü...\", \"?'+\", '', '-?.*', '.&;#&;.?', \".''.\", \",'\", '2!?09058097189.6,15150', '-!09061221066.28', '330.11201205??', '\\'\"\"', '', \".8.'5..'\", \"..,'..'..:)\", 'ü.?.', '.2.2.', '5226?350.087123002201131', '.&&!.@15018', \":*'*&;:*,*:!+++:)\", '', \"'.\", \"..'.'\", \"','\", '!!!!', \":71-2-3-4-5-6-7-7&;#&;...!1&;#&;%..'.\", '312?', ',.!', \"'...\", \"ü?.'.\", '.', '?!', '..', \"...,,...,'...\", '..3', '500&,.07781482378.', '...', ',..', \"'.\", '...', '......?', '', '.!.', \",''?'''''',.5...,\", '...', '......', '...?', '?11?', \"7,'\", '.:-)', \"'.\", '..', \"...?ü?'21..\", '!,09050000928.452150', \"',\", \",,'\", '...', '..', ',..', '!!!!!!!!**', \"',\", '...', '...', \"',,?\", '...', '..', \"'......\", '.?.', \",'\", '!?', \".2..'.'....\", '.', '', '..ü..', \"'!*!\", '3.', '...', '..:-;-),..', \"'...&;'...\", \"'.'07090201529\", ':)', '..', \".'\", \"...'...\", ',?', \",'\", '.', '...', \",'?\", \"'....\", \"'''.\", '......', '.', ',!', '', ':)', ',.?..', '.??', '', ':-)', '.', '4£10,000.09066364349!4343815018+', ',', '...??', ':83332.08081263000.', '...', \"-'...!,\", '?', '2:-).', '.', '08712402972', \"',\", '?', '...', '...', '.', '!£2000.09058095201.12', '', '.', \"','4?\", ',.£1500,09066364589', '..', '\\'\\'\\'-\"!!....\"', '..&;', 'üü...ü26...', ',', '...2!28.', '..:\"....\"', '3510?300+100+08000930705', '.....!.,!', \"'.____'.&;#&;..\", '.', '..', '?', '.-.', '', '', '4...', \"..'!@/\", '?600400508002888812', ',.£1500,09066368470', '!..24', ':1-!::68866.3/:08448714184?', '10?/.£/.', '2&82209099726553£1/17751', '..', \"'\", '......', '?.', \"''/\", \"'.\", '&;#&;/7', '-!09061221066.28.', '......,...,...&;.......', '.8', '.?', ':)', '?', '', ',?,,', '?', \".89105.!''.18\", '.....', \"...8'.\", \"'!\", '\"\"...', '...,,.........', '.?', '&;#&;..', '.||?||', '..', '2.1', '', '....?,..????', \"...'.\", '...42..', '...', ':.8', ':)', '4..012235852364.', '.30....', '.....41034.10302,44...', '-+447797706009?://..', '.?', '', \",'\", ',,', '!.£800.09050001808.95.12', '!.:-(', ':)..', '....', '....&;...&;', '‘!,.', '?', \",'?.\", ',..', \",'&;#&;?\", '&;#&;.', \"'\", '.', '?', \"'?:-(\", '75015008000776320', ',!?.,...**', \".'&;#&;.2......\", ':-):-)', ',', '..', '...', \"'.\", '4...', '.', \"&;&;.&;.'.'\", ',', '!,09050000878.452150', '2+48??1),2),3).1,2383049.50+', '......', \",''\", \"'.\", '.', '@.(-)*****300%***********$5.00..', \"&;#&;.'&;#&;..\", '', '6...', '', ',', '...', ':\",\"...!\",\"!...', ',10.1,35.,!!!', '!\\x92224-..', '', \"'.\", ':-.', '.', '.?', \"'..\", ',‘..?', '??.,,.', '.', '', '9..', '...?', '\\x92,!4?', '!!', \"'\", '2...', '!2-2...2.,,4,29!', '?:)', '£1000,!09071517866!1501018364', \"&,108,,&.'!\", '(8)9,?', '...', ',.,&;#&;.', \",'\", '!?', \"'.\", '...2...', '...,!!...,...**', '.3.', '..', \"'3,\", '', 'ü25', \"''...\", \"..'\", '', '!?!?\\x91.?4?\\x96!', \".100'&.69669.,14908701752560.4505.2\", ':::::\"4\"\",\\'......', '$&;#&;,.', ',', ':-)', '?', '420', '', '50%4290611000103.1484263£1.50', \".'.\", '....', '..', '!£800.09050000460.89.2452150', '!.!', '89555!15069618+', '...:)', '4.£54.£71.,..10(£10)83383..', \"'?\", \".1.'4,7.2.'.3.&;#&;.4.'.?:-|--\", '....', \"'&+£200!::69101....\", '', \"'.\", ':6650£10!::81151&!4&150/', '.', ',,', \"''.'!.218/\", \"'\", '.', '..,...**', '', 'ü..ü..', ',,.', ',.', '4...', \".'\", '.', '07734396839:6600£10!::81151&!4&', '....&;...&;', '-150:02085076972', '-;).', '/.', \"'.'...\", '..', '', '...', \",'\", '3510?200+100+08000930705', '2?', '!!', \"'.'£1000.09066660100.2309.\", \",'\", '??', '', ',', '.', \"',\", ':-)...', '!', ',....', '', '.', \"'.____'.&;#&;..\", '..,', '..', \",,'\", '....', 'ü.', '..?', ',&;#&;', '.2.', '..', \"8007254'.8.8007:087014170122\", '&;#&;', \"''.\", '......', \",'\", '....?', ':)', \"!'!\", '...:)', '...', '', '!84199.39822111£1.50', '!...', '!', '.', '.&;#&;&;#&;&;#&;', \"'.',.',.\", '24+++', '?', '.,07090298926-.:9307622', \"'?\", \"'\", '\"\"-./..4.50/.,1146452(2/3)', '...2......', \",.,.'.\", \"*'.\", '??.69696!.2.3£1.50/.', \"'\", ',,?', \"'()'.*9\", \"...'!=\", '7,.?', '?...', ',', '..', '', '5.', \"???'?\", '...', \"?'.\", '...&;#&;:)', '&;#&;', '!', \"?,'9.!2?\", '.............\"\".........', '?6??', '...?...', \"'..'..'..\", '??????,...**?', '.', '', '......', '..', ',,50?*.6.30.', '..', '7250..86021./342/2/116+', ':-)', \"ü?'...\", '!?', ':8714714-£200.88039..087147403231!16£1.50', '.', '.', '', ',,2-,\\x92\\x922!', '......ü2...', '', '&;#&;:)', '&;#&;,?', '!!', \"'\", '?', '', ',,.', '', \".'!\", '!', ',&;#&;.5', '..', '£1000£2000.087147123779-7.10', ':).2:)', '...ü...ü...', '........ü', '?', '!!!.............', '?...**...,??', '...ü4?', '...', '..:-)', '', '--1-81618-?3--08718727870', '.....', '?.', ',?', '?', \"ü'.ü'.\", ',....!..', ',............', '.', \"'.\", '.?.', ',49.4.50.09065989182.:[=][/]', ',', '.?', \"'......\", '.', ',2!2,!86688!150//342/2//1618', '..?', \"..'\", ',...', '41!!.', \"'.\", ',.', \"'?..'?'??',&;?4-......:)\", '', '.?', '4+1,?', '‘£6,?', '?', \":.&;#&;#&;#&;#&;..,''..\", '', '', '..', '2/2146150', \"'...'...?\", ',.?', \"'\", \",'\", \"'..\", \"ü...'...\", ',,,,', '2108704439680.12', '!,!.?.**', '...,...', '?', '', '-+447797706009?://..', '?', ':)..', '!.86688!150/.', \"'\", ',\"?\",\"........', \"'&;#&;\", \"..''\", '1!148007...3650445150/16+', '.&;#&;:)', '', '2!?09058095107.7,3150', '.:)', ',.', '.', '8.?..', '!...', ',,,', '', '....', '.....', \"!.'..\", '.4.', ',23,,...69866.18.30/15.£1.50.08718728876', '..&;.22.1,&;,.:\"\\'\\'', '200,08717895698!!10', '-?', ',....+&;#&;..', 'ü?', '?', '', '....?', '?', '.', '22....,.3', '\\'\",\"', '!!!???,...,...**', \",,,.''.0871246666910/.208712460324()\", '!...', '..', ':\",..\".....', \"'..\", '..', \"''''''..!!-.&;#&;-.&;#&;-.&;#&;&;#&;\", '&;#&;\"\".\"\".3\\'!4', ',,&;#&;?', '?750???08000930705', \"','\", '.', '....', \",..,'..,&;#&;&;#&;..&;#&;..\", '..', '!.£900.09061701851.61.12', '.', ':-)', '', ',?', '!!', '7.308.30.', '..', '.4...', '..,..', '.', '..', '74355&£500&2£10087066', ',,', ',,&;&;', \".'..--'--..\", ':)', '-.,/..', \"'.\", \".'\", ',...', '2209061104276&..£3.75', \"??'??\", \",'\", '...', \"'.&;#&;%&;#&;%.?\", '.', '.', '..', \"'..\", 'ü530?', '!?', '..', \"…6.45.',.\", '!??!', '....', \",!'&;&;.-.\", '.......', \"','\", '....!', '&;#&;.', '.£250.,!88088', '..', '?', '..', ':):)', ',..,.&;#&;?', ',1..:-)', \".......'...'\", ':?!1000!6222008717890890£1.50', \"'.\", '!.,?', '?', '\\x93(5),5-!', '..', ':!:://../.?=165919*37819&=18:0430--05', ',.', \"!'!',£1.50\", '/....:)&;..:)', '\\x92,!!\\x92.8!', ',', \"',\", ',', '..', '4...', \"''\", '...', ',-\"\":-):-).', '.-?', '......', '', ',..', '..', '..&;#&;', '....', '..', ':\",..\".....', '\\'&;#&;\"$2\\'', '.://18..//.?=44345', '', \",'\", '..', '........', '..', '&1000.,&!8080008394022/8', '....', '2.£900.09061702893.03530150', '?', '4*#5000!09061743806.32625150', '.', '209066358152£5000.2&@.!', \"..'\", '-..', \"ü'.........\", '', '.?:)', ',', '4.??', '200407786.08719181259:26.03.05', '?750???08000930705', '..', '', \"!!'!\", '?', '....', \"...'......'...\", '.08005420825!', '', '..?111', '530.ü.', '..', '......', '...ü...', \"!'..!'&;#&;!\", '>!11.2.3.4.5.16£3/', '1!:\"2..\"', '?,,,?', '...?.?', '??', \"'.\", 'ü..', \"...'**\", '?...?', '..', \"ü.'4.\", \"'..\", '!.', ',?', '??', '..', '.', ',.?', '.++.!', 'ü??', '.', ':\"\"!', \"'.\", '......', '545...,4...', '!...', '??!', ',,', \"'.\", '!:)', '.2?...2..', '', '......', \"??'?08001956669''&!\", \"'.'.??\", '...?...', '.......=)', ':-)', '...', '.', \"'\", '?', '\"3000!08712402050.10.16+.&.', '.', ',...', '....', '.!', '!£150..09061743386', '?&;#&;.', \"..'.'..\", \"'-'…!,,\", '12500100.8080019503822/674&', '2?', ',', '.‘20', '...............................', '.', '-&4!808000839402!2&', '..', '!!!2!', '84484', '?', '..', '().', ',...**...', ',..', \",,\\\\',,,\", ':8!', '...,..', '..24?...', '(-)*****300%***********$5.00..', '', \",'\", '..,', '!...', '?', \"'&;#&;\", '!!0871750.77.11!-10/!', '75008000930705', '......?', '2.£400.2,087104711148!10.--', \"'.'.\", '?.', '...&;', \"''//'\", ',.60,400..', '2!!2??', \"'5.\", \"!,'/'.,\", '.......', '2+48??1),2),3).1,2383049.50+', '080814547429-11£1000£5000!', '?', '.', \",'&;,\", \"'.!\", ':-)', \"'8.'.\", '.', \"'1250-!£350!08712300220-.526,73\", '.', '.', '.2?...', '..', 'ü?', '&;#&;..', \"..'?\", ',.?', \"'\", '[…],!', \",'\", \",'..\", \"'!!\", '.?:)', '2?!!', '£350!09066364311.', '?', '.......', '!', '.', \"'...\", '080814547429-11£1000£5000!', '?', '&;#&;', ',!', '..', '£1000£5000', ',49.4.50.09065989182', '.', \"'\", '..', ',...,...', ',?', '.?', '', \"..'....\", \"..,..'......,:-);-)-)\", \".'\", \"'7.\", '.£100?82277.£1.50008704050406', '.08709501522!,139,32.£1.50/.-!', \"','?''\", '..', \"..'\", ':....:..!!:????!', \"'\", \"'&;#&;\", '!,09064017305757', '/.£38....', '\\x92!!', '..', \"'......\", '!..08717111821', '', '...', ',,,4', '87077:2&!8707787077', '.', '.', '&;#&;.', ',..&;#&;....', '.!', '.', ',..,...**....', \"...'...\", ',!&..', \"'\", '!200307973788240800-....08715203649:4053331/10/04', '', ',???**:,', '750+08000930705', '&;#&;,.2', \"'\", '.\"\".....', '?!', \"''\", ',*»10?', '', '…', '2.', '...', \"???2'..08714342399.2.@£1.50\", '', '2-*-09058094599', '?', '...2...', '2.', '0870750002020,1327950870', '.', '...', \",/?'\", '!<>2000.09061790125.3030.12150', \"',\", \".'!?\", \"???'?'?'?\", \"..--.--.'.\", '??', '.6,‘', '..1162...', '!?:)', '!??,...**....', \"...'\", \"'..'\", ',', '!?,.**...,', '.....', '!,08709222922.1.5/7.8/!08712460324(10/)', \",'\", '', \"'....\", \"'\", \"..,'......\", '!.', \"'!'&.&!08700621170150\", '?.', '.', '?', '&;#&;', '!,‘—!(…),.‘,', '\"...!..!!:-):-)', '...ü...98321561ü?', ':.....8;-)', '.', '2007?-,-,-.(,)', \"'!?\", '.', '\\x92.\\x92\\x92.\\x92..', \"'..\", \"-..08450213680''\", \"',???....\", '......?', 'ü...', \"'?\", '!!4*£5000.09050090044.,,334,,38,£1.50/,10', '?2?', '?750?3?08000930705', ',,', '?', '', '2??', '........?', '11?!08002986030', \"'??'..\", '.', ',', ',,://.../.&.', \"''\", '?', '!365009066382422150316+300603428413', \"'''.\", \"...,,...'.,!!\", \"''&;#&;.\", \",'\", \"...'2.\", '', \".'.\", \"'.'\", '...', '', 'ü?', ',,2...', ',..', '!0906346330.4*£10,000&4719215018+', \",'\", \"'6\", \"'.?\", \",'!\", '', '', '&;#&;/,//', \",'\", ',-,,,,.', '&;#&;', \"'.\", '.', '46.,.8080008394022/9', \",'---,'\", '1!148007...3650445150/16+', '22....,.3', ',,**!-),.£1.50.2', '', ':', '???....****', '.2ü.', '?.', \"40796.!2://..'!\", \",'\", ',:)', 'ü4....', '.22..2.2!', ':)..:).:)', '', '..07008009200', '.', '530.ü.', ':-', '', '4..', \"'2.\", '...', '?2?', \":.&;#&;#&;#&;#&;..,''..\", \"?'\", '', '-!', '....!,....', '.,...', '..:)', '', '???', '.', '.102.', \"'.\", \"....'...\", '.....', ':3750..', '£10087066..,1,16.150', '.', '.', ',&?21', \"!..',.\", '...', '!20042-4-1!&3!!', '...', \",'''\", '100?', '', '69669..', '.,', '..', '?', \".'.''.:/\", \",'...\", '...?......', ',,?', '-.£5', \"!!'!\", \"4.!2://..'!\", '.', \"-'.'....\", '?', '', \"'.\", '.........,...', \"'''\", '&;&;...', '....', '4304630', '?', '.', '.', '(25/).-440-440:..//27081980?62468', '?', '.,..', '.:):)', '...', \"'\", \"'..\", \"'...\", '.02.!2,://..!', '!!£900!09061701461.341.12.', '2,...-)', '...', \".'.,'.\", '..', '', \".'..\", '..&;.........:-)', '', ',,,!', \",..,..'..\", \"'...\", '..', '', '-150..101311', '500.4.!86688:.100-.', '08712402578', '.....???', '!4*£5000.09050090044.,,334,,38,£1.50/,10', '...........', '....,.', '?', '2..', \"'...\", ',.,!?', '', '!!:(.', '4.', '--.!', '..', '2!?09058091854.38566', \"2..'.'....\", ':).', \"',...?\", \"2?'2.\", ':)', \"',.'..\", '2.!?', '...:)', '?', '!', \",''&;#&;\", '...', '', '', '.', '', '.', '!23.09061744553!,,,.420.4.5.150', '1/=.1/=.1/=.1/=3/=2..:-)', '.', \"'..\", '', '...ü?', '?.:(', ',!.4?', \"',&;#&;\", '4', '?', '.', '&;#&;..', 'ü..', \"!''.'2....!\", '.....5..-?', ':)?', '...', '?-8', '4478012592312-*-09058094597', '&;#&;..', 'ü......', '..', ',..', '??', ':,2', \"40789.!2://..'!\", \",'.\", '..', ',?.42-2', '2!09058091870.84,263150', 'ü...', \",!'!!\", '\\'\"\"\"\"8', \"',\", \"'.'..,.'2...,:-)\", '.', '...', '.:-', '.', \"1'2''\", '...', '?750???08000930705', '...', '£600.:,,.,..?.,83738.!', '..', \"'':\", '£4.50.10....**', \"',.&.-.18+150/37316\", '9.', ',?', '.', '‘..', '', '.?.', '?...', \"'2-!\", '3510?200+100+8000930705', ',.....?,', \".'..\", \",'!\", \"',&;#&;?\", '..?,&;..!', '....', '?', '1/3.....', '!!!!!', ',.,.', ':-/.', '.', ',.....', '..', '4...', '', '.....,.8', '', \",'&;#&;\", '...', '4100...', \",&;#&;,'\", '........', '\"\"', '', '', ':-)', \"-'.'....\", '..', \",''\", '.&&;', \"'5'.,'.??!\", ',', \"??''…\", '4.', \"......ü'...\", '.......', \"...'...\", ':)', '.:)', '?', '?', '...2...', \"'...\", '...??', '2..', '..&;#&;', '4.', '!.!', \"'...&!08718730666(10/).208712460324\", '-,&;#&;...,..?', '?', \".'\", ':)', \"'.\", \"'2.?\", '', '??2', '', '2\\x92,?', '!', '', '.?', ',&41£1000.8712118+6*£1.50(.)10,13', ',', '.\"\"..\\'\\'\\'--\\'\\'.\\'.', \"'..\", '&;#&;', \"'.?\", ':,\"\"??...\\'..!.....??\"\".......:4,......@', '\"\",\\'', '?', '...2.......', '--08719839835.150.\"\"89123', '......', '...,..', \",',?\", \".'4.\", '5', '.', '?', \",''?'''''',.5...,\", '', ',..224.', \",'1\", '............', '3..', '.', '30?02073162414!20/', '!!', \"'5.15.\", ':-)4', '.', '', \"..'.,\", '....', \"2',\", '...', '?...', '.', '*.', '...', '&;3', '', \"'&;#&;/7\", \",',',,',!\", '', \"..**..',!\", \".'\", '...', ',,', '', '3+£400!:83355!.£1,50/18+', '.,..=39,.08702840625..220-29', '.', \"'?\", '2?', '.', \":)':)\", ':.71', '?', '.......4..ü?', '.', 'ü?', '()', '..,....**', '..', '946', ',&;:(', '.', '!23.09061744553!,,,.420.4.5.150', ',,,,,.....', \".?'?\", '-363.,40.', '..', '....', '22', \"':\", \"'ü..\", '2..', \"!',2.89938.(2,£1.50.73117.)\", '.:)??', '?!222!?', ',*', \"'......\", '....', '.??', '8---48907089070', '4!!', '', '...!!.:', ':)', '...?', \"',(),\", ',,!,().', \".?'...!?\", '.??84/82242087123176061502', \"'\", '?', '......?ü...', '......', '..‘..24..', '.', ',', '!4\\x96.8.3.;)', '...', ':\"1.2.3.\\'', '............', '.', '77654321\"\"...', '', '..', '.()', '+..', \"'.'.\", '.???', '?', \"&;&;..',\", '', \":*'*&;:*,*:!+++:)\", '2...&;#&;.&;#&;?', '', '?..', '', '?-!::888342171616+118/', '\\x92,&4!.4', '?', '!2!£1000090715124324300603&423513.150.£7.50', ':(....', '...4ü...', '500125&210087066', '11?,.!&.,', '!09066350750.4*10,000&4343815018+', '.?', '....&;#&;.........;-(.', '..', \"'.!:-)\", \"£250:80878.'&'.-2-.08715705022,1150/\", '...', '2-*-09065171142--08718727870150', ',23,,...69866.18.30/15.£1.50.08718728876', \"',\", \".'.:)\", '?', '......', '!!84199!-.39822111£1.50', '!', \"'..\", '..', '', \",'\", ':-).', \"'...\", '?', '24', ':::86888&3!6/316?', '!,.&!.', \"''\", '4!!', \"8',?\", '.........,...,......', '5!!', '&;#&;', '.', '.', 'ü?', '..', '', \"??'4.30\", '!?82277.', 'ü...', '.?...', \"...'...'.\", \",'.\", '', ',!', '.', '.\"\"\\'\\'\\'.....', '.?', \"'.\", '.......', '0800169603110-9£1000£5000!', '7634£350.087123002207684.', ':)', '..', ',?', \"',\", '.', \"'.\", 'ü......', '.', '.', '..:)', \".'.\", '', '.', '!..08717509990////3', '.', '', '?', '75008000930705', '1..!!!', '..', '-.,/..', '..!..!!\"\"...\\'\"\"', '£400!£400.09066380611', '?', '..', '.', '..', \",'\", '!2003800-....08718738002:4892221/11/04', ':-):1).', '.', '..', '...', '.', '..?', '.', '...', '....', '.', '22', ',,\"!\".,,\"!\".,!', '..,', \",'\", '.,07099833605-.:9280114', \"2ü..'...?ü2?\", \"'.\", ',?,!??.150/', 'ü...', '130.255.128.', \"'\", '....', \"'','\", '?', ',2', '=', ',,,,:-)..:-)..', \"',&;#&;\", '.', '...', '...', \"',\", '', ':-).', \",....'\", '......', '....', '!07808726822£2,00002/09/03!2!0871-872-975895', '.', ',‘.', ':)?', '', ':!..!,.-82050..', '', '...', '**...**...**......', '.', ':-)', \"...'.\", '.', ',.2?', ',,?', '....1..:-);-)', '...24...', '!:)', '‘', '...ü..', ':)8:)', '.?..,.', \",&;'\", '..', \"......',...,...\", \"ü..ü'..\", \".,'...\", \"',......**\", '!!', '.42.1.,&8.0.', \"',?\", \"'\", '10?/.,/.', '()..-&;#&;', \"'.\", '...', ':):)', \"ü'?\", '...........&;.', '42.0()2../4+.', ':)?', ',', '..,....??', '..223....?', '', '\"\"\\'\\'\"\"', '..', '...', '..', ';)', '-!09061221066.28.', '.', '+,.?', '......!!8', '!.2.2!.', \"',\", '-!:1)->>>2)->>>3)->>>', '', '..(!)...!!..', '...4?', \"2'.\", \"'....!!!8....\", \",,'\", '!£2000.09061790121.3030.12150', '424£100.?80082', \"'..\", \"'é$140...é$180...é4é2($900)\", '!', ':)', '.:).:)', '.', '?', '1172.8723908708034412', \"'\", '!..', '!!', '..:)', ',.&;#&;...', '.', \".'?\", ',....!', '....', '*?', '.', '?', '', '...', ',.', ',!!.', '-!', '-09066649731.4*£10,000&4343815018+', '', 'ü.', \"..2.,'4.'...\", \"'\", \".''.\", ':-)', '4:-)', \".'.\", '..', '', '2.£900.09061702893', '!?09077818151.1.50330&..', \".'\", '.', \"'.,?\", \".'.,?\", '..', '', ',,‘–', '.', '.', '!2004078498****7786.08719180219:4523906.05.05', \"'....\", \"',.\", ',..', \"?...''...\", \"',\", '&;#&;', '..', 'ü...', '2:-...-...', '..', \"'?\", '?...', '@..', '!...', '2£10004*()20871277810710/(18)', ':-):-)', '...||&.||.||?', '..', ',', \"''...\", '.', ',', '\"\"\"\";\"..\"....:)', ':-):):-):-):-)..', '.?', '2004,!::89545&!£1..4-.2087187262701.50/18.', '.', '.,4+2..', \"'!\", '.....', '..', \"'.\", '!2003800-....08715203652:4281029/10/0', '....,...', ',?', '.', '!£150..09061743386', '.', '', '..', '..', '.&;#&;..', '???', '...', '', \"'.\", ',.', '...', '!!', '!!', '...', \",,'?\", '2\\'\\'...,24\".......', '..', '****.18.150/2.208718726270', '!!0871750.77.11!-10/!', '......', \"'\", '!,!......**...\"\"...\\'?...\\'?', '.', ',&;&;..?', '1.2.3.4.5.6.7.8.9.&;#&;..', \"'...\", '..', 'ü1510...', '!!.', '', '!,?', '(21/).-910-910.:..//?62468', \"'......\", '14!287575.1!.150/.164', '..', \"'\", '/', '10.', \":,......&;,'.!\", '.', \"'\", '6', '4882£350.09064019014£350.', '...?.', ':,,,:,..,!!:,..,...', '...**....?', '..', \".'2.'.\", '', '', '?750??08000930705', '2:-)', '.', \"''\", ',', ',403£500!::83355!15150/18', '.24?', '**87131!16202317450', ';2.', \",*'*.,',...,,.'..'.',.',,.??\", '83118@&1.!+@.4-7/12.&@.4', '', '?', \"',|?\", '.', '..22.4', '', '.', '!4(,726278.', \"'.''...'.'.'...\", '!!!!!', ',', '22.750.2,08712101358!10.--', '', \";'?\", ',/', '???.?,.....', \".'.'..\", '......', '4...', '....', ',?', '?!:', '‘!', '2?!61200(25),../&!', ',..', \",!'?'?????\", '.&;#&;2', '.', ':)', \",'??\", '...:)..', '', '!', '.&;&;.9.', 'ü?6...', '??', \"',......4,...\", '....', \"!!'\", \"',\", \"'\", '!08006344447£1000£2000.!', ',,...', '', '!', '7:30?', ',2.402.', \"4!'!\", '4?...', \".'\", '...!,:).', \"':).\", \"'?\", \",'9-6.\", '&;#&;:)?', ',,,,', '...', '...', '.2241://.4.//.', \",'\", '!.£2000.09058094507.3030.12', \"£2.50'864233.£2.50\", '.....!...!....', '2...', '...?.', '!...', \"'...\", \"..'..\", '...2??', '....', '!:)!', '2.:\"\"', '.\\x92??22!', '..?:)', '?', '.', '?(&;#&;)', '.', '(29/).-762-762:..//?62468', '.8.', \"'2...\", \".'.'.\", ':-):-):):-).', \"'?!!\", '£350-£350.087123002203100', '!12:30,‘?!!:-', \"'...\", ',....4..24?..', '.', ',', '.', '....', '..', '.,.', '..', '.,', '?', '4:£500£125&2£10087066..1150316', \"'&;#&;'.&;#&;....\", '?!', '', '..', '', '..,..', \",''.....\", '£1000£2000.0871471241210-710', '?', ',.', \"!...'.'......**\", '9', '...4ì?', \"0776'.!86688150//342/2//1618\", '!???????', '!?', \"',.?\", ':-(', '.', \"'\", '.', '7', '-500--86688150/.:08718720201/342/2/16', '!2003800-....08715203685:42613/10/04', \"'\", \"'.0909464663160/.08712460324()\", '?.', '...?', '....', '*,!', '', '..', \"''.'!.218/\", \"(')\", '...', '.', '(20/).-165-165:..//29?62468', '.:)', '!88888!&.16.?08701213186.', '.9', ',24.....', ',', '-4....', '.?', '&;3', ',\"\"..,,,:-)', '', '....', ',,....?!****...', '...', '&&1/2.8.080008394022/56', \"'!'!.?\", '.', \"1030'.............\", '...,?', '12500100.8080019503822/674', '', \",'..\", \"'.4.??\", '29...', '......', '&;#&;+&;#&;..', \"..'.\", '8303962735=£450&.215541', '', '...&;..:)()', \"54'.8.8007:087014170122.\", '?', '£200.288039..087147403231!16£1.50.', '8..........', '&;#&;..', '2,£1000£200.09066361921', \",''...\", ',.,...', '3510?300+100+08000930705.', '.5..', ',\\'.&;&;.--9....,\\'?.4.\\x96!,.,\\x92\"', ':...====--==...!:-)', '...ü4?', '...', '..', '.:/?', ',...', '.', '?', \",'\", '.', '...,4...', ':)', ',.,...', '..?', \"'.&;#&;\", '', '>,.1,-4!', ',,?.-.', \",'\", '.!', '@..', '.', '..,.2,.2,.\\'?\\'\"\"\"\"2:-:;):8', '...&;#&;..&;#&;..', '!', '24', '..,...**', '.', '1.08715205273', \"'...\", '!11+?!08002986906', '?21?', ';_;', '3,44.42...,.3.', '.!', '...........', '?', '.', '!2003078', ',&;#&;?', '.6+?', ',', ',...', '...6......,...', ',..', '.', '39!', ',,,...........,1-!2-13-24-15+-1.:-)....', '.', \".'.'?\", \"'...&;#&;\", '...,4.,.', '.:)', '*.', '?', '!4*£5000.09050090044.,,334,,38,£1.50/,10', '......?', \".2...'.\", '..', '1!148077....365044516+150/', '...', '2', \"':)?\", \"......!'...\", '..!.', '£33:50.2..', '....:-)', '..', '...,:):)', '...', \".''.'.\", \"'\", '&;#&;,', '..', \",'.\", ':).', '.6.', '', '...?', '..!', \".'.\", '', '23.09063458130!,,,.420.4.5.150', 'ü?ü?', \"?'..\", '', '‘,!', \"'.\", \"''ü.\", '..', \",''\", '2.', '..', '......', '.:)', \".2'.,\", '-72504!2&!86021!', \",',,\", \"!!!?...'.,**\", '..:-)', '.?', ',', \"''.\", '', '', '?', '', \"2.80182()&'0845281007318+\", '5000.4.2', \",'\", '.........', \"',?\", '......', '4..4.', '&,800708701417012150/', '!‘..', '.....', '..', '1!08448618585..!...', '!4*£5000.09050090044.,,334,,38,£1.50/,10', '?', '..', '?...', '11?&.8080008394022', '&;#&;', \",','?'......'!\", '.?', '.,....', '.', '.', '..?', '3.', '(25/).-440-440:..//27081980?62468', ':).', '.', '.', '', '.', '3', '2,.4.:-)', '5......', '.', '..25.!8.', '1!!', \"..'....'\", \"-'!\", '!2003<>800-....08715203656:4204926/10/04', '.', \",'\", \"'..8\", '£350!09066364311.', '..', '..', '.?', '?1.2.3.4.5.6.7.8.9...', '!0906401530733438', '', \",'4?\", '..,..', '', '...', \"!'...!**......****\", '...', '!...', \"'.''..\", '8..........', '....', \"',9\", '!09061213237.£50004*.&177227.16+', ',,,!', '..', '', '', '......', \"'!\", '..,&;..:)', '1.2.', '.', \"'..$&;#&;.\", '!.', ':)', '..', ':,\"\"??...\\'..!.....??\"\".......:4,......@', '8..', '?', 'ü4?', ',...;>?', \"',.&.-.18+150/37316\", '?..', '2?', '.?2?,,..!', ':)..', '.*!,..', \"'\", '.?', \":',..&;..:-)...\", '!£2000.09061790126.3030.12150', '.....!\"\"\"\"\"\"\"\"\"\"\"\"\"\"..\"\".', ',&;&;..', ',?:)', '', ',', '', '!1£100,000!::81010&..44031718', \"'..?\", \"!'..................**...\", \":'':-(:-)\", '!22.22!', '.', '.?...', '!09061213237.£50004*.&177.227.150.16+', '', '&£500&2£10087066..1150316', \"'\", '', \"..'.?\", '.', \".'?\", \"'\", '', '&;#&;...', \".,'...\", '2&;#&;.', '!?', '3', '.', \"'.......\", '!,7.30.', \",'\", \".:)'....1\", '............', '.', '!84199.39822111£1.50', '..', '...?', \",''\", ',......,**', '.', '?', \"...'4...\", \",'\", \"!'?\", ',......', '.-?-??-,..:-)', '?', '.', '?', ',.', '..', '2.', ':)', \"[]-'.!,..\", ',,,,', \".'.'&;#&;'.'.--'.\", '..', '&;#&;..', '?', \"''?!\", '??', '!', '2250.1?,@150/.2284128,08712405020', \".'.\", '?', 'ü?', \",,...!!..........'...!\", \".'8-..\", '?', \"'...\", '..', \"'...2......\", '!!', \"...ü'...ü?...\", 'üü4ü.ü.', \"........,''...;-):-)\", '..', '', \".?!'.?\", '(123456789&;#&;)........', \",,','\", \".'.\", \"'....\", ',100.', '09095350301.60/.08712460324()', '-!09061221066.28.', '£400!£400.09066380611', \"'.''\", '...13/4/04.08717507382!', '&;#&;', ':..?', ',?', '.,??', \"',\", ':......&;....', '.', \"'.'.'.\", '151..:08718726270', '848800,£250.80878//.8.08715705022', '', \".'\", '1.0207-083-6089', ',&;#&;', '...', '...5.\\x92\\x92..', '?', \"'.\", '!&;#&;...', '.!!', '.....', '', '?', '', \",.''!\", '.', '1.', '.', \"'\", '...', \"'\", ':&;.......!鈥┾??〨...', '24', '!!', '......', '.5&;#&;.', '?', '', \":?'...'üü...\", '...?', ':)', \",4...2'?\", '...', \"8..'\", '42', '', \"''\", '!23!!', '..', \"..'..\", \"'&;'''()\", '..', \",'?\", '..2....', \",'\", '......', '-..', '!', '!?09058094583.', '.', ',15:26,!/', \"','\", \"'\", '4!', \"'\", '', \"'...\", '.', \"'\", '?', \"'2...\", '.?', ',.', \"',418.!\", '32000£10000800.....(18+).???', \".--'.\", \"',\", '.!.?', '', ',?', '!,!', ':)', '....', '?????', '.', '?', '...', '45;01212025050...', '', \",'\", \"&;#&;':/\", '!11+?!08002986906', '.2?', '::86888&3!6/316?..', '2?', '...', '?!‘', '//../.?=82055401705572711&=¡¡', '£33:50.2..', \"!'£1000!09050000332.&:,73.150\", '.', '.', '', ';_;', 'ü.', \"''?????\", '.:)', '!....', '-......', '&;#&;%.', '.8.', \"'?!\", '', '£1000090640172955212150', '......', ',,|2|43|.||1225.30.||', '&;:(', '', \"208448350055.2..&'&'.\", '.', '..2..', '.', \"?'2.\", '-(£4.50).83338&8', '...', ',,.,?!.', ',...??,......', '...', '.,..=39,.08702840625..220-29', '&;:(', '2..', ';.;....', '!200307808247860800-....08719899229:4041106/11/04', '', '*,', '.&;#&;.', '....', \"'.'.'.'...!!8\", '...', ',.', '.', '', '‘,.', ',?', '.&;#&;.&;#&;', '.........', \"..'..\", \",''...,4,...,...\", '..?..:-)..', \",'..\", '.', '.', '..', '....', '.', '!09061221061.28.177.221.2.150.16.£3.99', '', '!2003800-....08718738001:4955726/11/04', ',:(', '.', '.', \"''\", '...', '', ',.1.', '', '.,....', '...', '30?02073162414!20/266713', \"'..\", '..', '30870..8.3..£2503£800', \"'...\", '', '?', \"'&;,''''\", '', '..', '11?,.!&.,.', ',;', ',.,,,,.', ',?', \".'\", '.', '..', \"'\", '...4.224.', \".'....\", \"..&;#&;&;#&;....4'.\", \",'\", \"'&;#&;\", '..', '...', '......2...', '6.', \"''.\", '...', '2:2.502,', '22.£750.2,0871872720081!10.--.', 'ü?', ',*....?', \"'\", '.']\n"
          ]
        }
      ],
      "source": [
        "stemmer = PorterStemmer()\n",
        "lemmatizer = WordNetLemmatizer()\n",
        "corpus = []\n",
        "\n",
        "for i in range(0, len(data)) :\n",
        "    review = re.sub('[a-zA-Z]','',data['message'][i])\n",
        "    review = review.lower()\n",
        "    review = review.split()\n",
        "    review = [stemmer.stem(word) for word in review if not word in stopwords.words('english')]\n",
        "    review = ''.join(review)\n",
        "    corpus.append(review)\n",
        "\n",
        "print(corpus)"
      ]
    },
    {
      "cell_type": "code",
      "execution_count": null,
      "metadata": {
        "colab": {
          "base_uri": "https://localhost:8080/"
        },
        "id": "XUZ9YeMn0Nph",
        "outputId": "63bc5fc1-c088-4503-cafd-6ea7fd0e719e"
      },
      "outputs": [
        {
          "name": "stdout",
          "output_type": "stream",
          "text": [
            "xxyy         ham   spam\n",
            "0      True  False\n",
            "1      True  False\n",
            "2     False   True\n",
            "3      True  False\n",
            "4      True  False\n",
            "...     ...    ...\n",
            "5567  False   True\n",
            "5568   True  False\n",
            "5569   True  False\n",
            "5570   True  False\n",
            "5571   True  False\n",
            "\n",
            "[5572 rows x 2 columns]\n",
            "xxxx [[0 0 0 ... 0 0 0]\n",
            " [0 0 0 ... 0 0 0]\n",
            " [0 0 0 ... 0 0 0]\n",
            " ...\n",
            " [0 0 0 ... 0 0 0]\n",
            " [0 0 0 ... 0 0 0]\n",
            " [0 0 0 ... 0 0 0]]\n",
            "yyyy [False False  True ... False False False]\n"
          ]
        }
      ],
      "source": [
        "from sklearn.feature_extraction.text import CountVectorizer\n",
        "cv =  CountVectorizer(max_features = 3500)\n",
        "x = cv.fit_transform(corpus).toarray()\n",
        "\n",
        "y = pd.get_dummies(data['label'])\n",
        "print('xxyy',y)\n",
        "y = y.iloc[:, 1].values\n",
        "\n",
        "print(\"xxxx\",x)\n",
        "print(\"yyyy\",y)"
      ]
    },
    {
      "cell_type": "code",
      "execution_count": null,
      "metadata": {
        "colab": {
          "base_uri": "https://localhost:8080/"
        },
        "id": "q8yR1py-1IO2",
        "outputId": "71676b24-f6cf-4928-a220-ad233a3e0bc3"
      },
      "outputs": [
        {
          "name": "stdout",
          "output_type": "stream",
          "text": [
            "x_train [[0 0 0 ... 0 0 0]\n",
            " [0 0 0 ... 0 0 0]\n",
            " [0 0 0 ... 0 0 0]\n",
            " ...\n",
            " [0 0 0 ... 0 0 0]\n",
            " [0 0 0 ... 0 0 0]\n",
            " [0 0 0 ... 0 0 0]]\n",
            "y_train [False False False ...  True False False]\n",
            "MNB accuracy 0.9013452914798207\n"
          ]
        }
      ],
      "source": [
        "from sklearn.model_selection import train_test_split\n",
        "x_train,x_test,y_train,y_test = train_test_split(x,y, test_size = 0.2, random_state = 0 )\n",
        "\n",
        "print('x_train',x_train)\n",
        "print('y_train',y_train)\n",
        "\n",
        "from sklearn.naive_bayes import MultinomialNB\n",
        "from sklearn.metrics import accuracy_score\n",
        "mnb = MultinomialNB(alpha=0.8)\n",
        "\n",
        "mnb.fit(x_train,y_train)\n",
        "y_pred_mnb = mnb.predict(x_test)\n",
        "\n",
        "mnb_acc = accuracy_score(y_pred_mnb,y_test)\n",
        "print('MNB accuracy',mnb_acc)\n"
      ]
    },
    {
      "cell_type": "code",
      "execution_count": null,
      "metadata": {
        "id": "juGOQqt73Du4"
      },
      "outputs": [],
      "source": [
        "import gensim\n",
        "from gensim.models import Word2Vec"
      ]
    },
    {
      "cell_type": "code",
      "execution_count": null,
      "metadata": {
        "id": "Y5Kz4EV15OaL"
      },
      "outputs": [],
      "source": [
        "sentences = '''Certainly! Traversing a matrix in a spiral order is a common problem, and it’s useful for various applications such as image processing, data visualization, and algorithmic problem-solving. Let’s write a Java program to achieve this.\n",
        "\n",
        "Below, I’ll provide you with a Java implementation that prints the elements of a given matrix in spiral form. You can use this code as a starting point and customize it as needed'''"
      ]
    },
    {
      "cell_type": "code",
      "execution_count": null,
      "metadata": {
        "colab": {
          "base_uri": "https://localhost:8080/"
        },
        "id": "ggxzgIXf5oj6",
        "outputId": "3813da91-b52c-4b25-b258-08248ff6ea59"
      },
      "outputs": [
        {
          "name": "stderr",
          "output_type": "stream",
          "text": [
            "WARNING:gensim.models.word2vec:Each 'sentences' item should be a list of words (usually unicode strings). First item here is instead plain <class 'str'>.\n"
          ]
        }
      ],
      "source": [
        "model = Word2Vec(sentences, min_count=1)"
      ]
    },
    {
      "cell_type": "code",
      "execution_count": null,
      "metadata": {
        "colab": {
          "background_save": true
        },
        "id": "9ogIB2_63OvJ"
      },
      "outputs": [],
      "source": [
        "senences = [[\"this\",\"is\",\"the\",\"first\",\"sentence\"],[\"This\"]]"
      ]
    }
  ],
  "metadata": {
    "colab": {
      "provenance": []
    },
    "kernelspec": {
      "display_name": "Python 3",
      "name": "python3"
    },
    "language_info": {
      "name": "python"
    }
  },
  "nbformat": 4,
  "nbformat_minor": 0
}