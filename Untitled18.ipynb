{
  "nbformat": 4,
  "nbformat_minor": 0,
  "metadata": {
    "colab": {
      "provenance": [],
      "toc_visible": true
    },
    "kernelspec": {
      "name": "python3",
      "display_name": "Python 3"
    },
    "language_info": {
      "name": "python"
    }
  },
  "cells": [
    {
      "cell_type": "code",
      "execution_count": null,
      "metadata": {
        "id": "Eb_GrjIRA_k9"
      },
      "outputs": [],
      "source": [
        "import nltk"
      ]
    },
    {
      "cell_type": "code",
      "source": [
        "nltk.download('punkt')"
      ],
      "metadata": {
        "colab": {
          "base_uri": "https://localhost:8080/"
        },
        "id": "2SqTz_laBEtD",
        "outputId": "a007fb6e-1c21-4527-9b30-82bce3653144"
      },
      "execution_count": null,
      "outputs": [
        {
          "output_type": "stream",
          "name": "stderr",
          "text": [
            "[nltk_data] Downloading package punkt to /root/nltk_data...\n",
            "[nltk_data]   Unzipping tokenizers/punkt.zip.\n"
          ]
        },
        {
          "output_type": "execute_result",
          "data": {
            "text/plain": [
              "True"
            ]
          },
          "metadata": {},
          "execution_count": 2
        }
      ]
    },
    {
      "cell_type": "code",
      "source": [
        "text = \"Java is a versatile and powerful programming language widely used in various applications, from web development to machine learning. Its platform independence, object-oriented features, and extensive libraries make it a popular choice among developers. With tools like YOLO and TensorFlow, Java programmers can efficiently implement complex machine learning and computer vision projects. Continuous learning and participation in online communities can further enhance one’s skills and keep them updated with the latest advancements in the field\""
      ],
      "metadata": {
        "id": "kWgx-vAaBIpy"
      },
      "execution_count": null,
      "outputs": []
    },
    {
      "cell_type": "code",
      "source": [
        "sentence = nltk.sent_tokenize(text)"
      ],
      "metadata": {
        "id": "v4tPZ_53Bb6b"
      },
      "execution_count": null,
      "outputs": []
    },
    {
      "cell_type": "code",
      "source": [
        "sentence"
      ],
      "metadata": {
        "colab": {
          "base_uri": "https://localhost:8080/"
        },
        "id": "RKo_wgH4BgB3",
        "outputId": "3d8fc997-93cb-499e-b158-918b482b17bf"
      },
      "execution_count": null,
      "outputs": [
        {
          "output_type": "execute_result",
          "data": {
            "text/plain": [
              "['Java is a versatile and powerful programming language widely used in various applications, from web development to machine learning.',\n",
              " 'Its platform independence, object-oriented features, and extensive libraries make it a popular choice among developers.',\n",
              " 'With tools like YOLO and TensorFlow, Java programmers can efficiently implement complex machine learning and computer vision projects.',\n",
              " 'Continuous learning and participation in online communities can further enhance one’s skills and keep them updated with the latest advancements in the field']"
            ]
          },
          "metadata": {},
          "execution_count": 5
        }
      ]
    },
    {
      "cell_type": "code",
      "source": [
        "word = nltk.word_tokenize(text)\n",
        "word"
      ],
      "metadata": {
        "colab": {
          "base_uri": "https://localhost:8080/"
        },
        "id": "bUSTA2soBj6Q",
        "outputId": "cb7daae0-c278-4cb0-b135-f2dee9e29fb3"
      },
      "execution_count": null,
      "outputs": [
        {
          "output_type": "execute_result",
          "data": {
            "text/plain": [
              "['Java',\n",
              " 'is',\n",
              " 'a',\n",
              " 'versatile',\n",
              " 'and',\n",
              " 'powerful',\n",
              " 'programming',\n",
              " 'language',\n",
              " 'widely',\n",
              " 'used',\n",
              " 'in',\n",
              " 'various',\n",
              " 'applications',\n",
              " ',',\n",
              " 'from',\n",
              " 'web',\n",
              " 'development',\n",
              " 'to',\n",
              " 'machine',\n",
              " 'learning',\n",
              " '.',\n",
              " 'Its',\n",
              " 'platform',\n",
              " 'independence',\n",
              " ',',\n",
              " 'object-oriented',\n",
              " 'features',\n",
              " ',',\n",
              " 'and',\n",
              " 'extensive',\n",
              " 'libraries',\n",
              " 'make',\n",
              " 'it',\n",
              " 'a',\n",
              " 'popular',\n",
              " 'choice',\n",
              " 'among',\n",
              " 'developers',\n",
              " '.',\n",
              " 'With',\n",
              " 'tools',\n",
              " 'like',\n",
              " 'YOLO',\n",
              " 'and',\n",
              " 'TensorFlow',\n",
              " ',',\n",
              " 'Java',\n",
              " 'programmers',\n",
              " 'can',\n",
              " 'efficiently',\n",
              " 'implement',\n",
              " 'complex',\n",
              " 'machine',\n",
              " 'learning',\n",
              " 'and',\n",
              " 'computer',\n",
              " 'vision',\n",
              " 'projects',\n",
              " '.',\n",
              " 'Continuous',\n",
              " 'learning',\n",
              " 'and',\n",
              " 'participation',\n",
              " 'in',\n",
              " 'online',\n",
              " 'communities',\n",
              " 'can',\n",
              " 'further',\n",
              " 'enhance',\n",
              " 'one',\n",
              " '’',\n",
              " 's',\n",
              " 'skills',\n",
              " 'and',\n",
              " 'keep',\n",
              " 'them',\n",
              " 'updated',\n",
              " 'with',\n",
              " 'the',\n",
              " 'latest',\n",
              " 'advancements',\n",
              " 'in',\n",
              " 'the',\n",
              " 'field']"
            ]
          },
          "metadata": {},
          "execution_count": 6
        }
      ]
    },
    {
      "cell_type": "code",
      "source": [],
      "metadata": {
        "id": "WZXcuwcRu871"
      },
      "execution_count": null,
      "outputs": []
    },
    {
      "cell_type": "code",
      "source": [
        "for i in  range (len(sentence)):\n",
        "    word = nltk.word_tokenize(sentence[i])\n",
        "    print(word)"
      ],
      "metadata": {
        "colab": {
          "base_uri": "https://localhost:8080/"
        },
        "id": "qMtIcsADCHC7",
        "outputId": "b9aa40f5-692d-4510-97fc-fdd06569b3f1"
      },
      "execution_count": null,
      "outputs": [
        {
          "output_type": "stream",
          "name": "stdout",
          "text": [
            "['Java', 'is', 'a', 'versatile', 'and', 'powerful', 'programming', 'language', 'widely', 'used', 'in', 'various', 'applications', ',', 'from', 'web', 'development', 'to', 'machine', 'learning', '.']\n",
            "['Its', 'platform', 'independence', ',', 'object-oriented', 'features', ',', 'and', 'extensive', 'libraries', 'make', 'it', 'a', 'popular', 'choice', 'among', 'developers', '.']\n",
            "['With', 'tools', 'like', 'YOLO', 'and', 'TensorFlow', ',', 'Java', 'programmers', 'can', 'efficiently', 'implement', 'complex', 'machine', 'learning', 'and', 'computer', 'vision', 'projects', '.']\n",
            "['Continuous', 'learning', 'and', 'participation', 'in', 'online', 'communities', 'can', 'further', 'enhance', 'one', '’', 's', 'skills', 'and', 'keep', 'them', 'updated', 'with', 'the', 'latest', 'advancements', 'in', 'the', 'field']\n"
          ]
        }
      ]
    },
    {
      "cell_type": "code",
      "source": [
        "nltk.download('wordnet')\n"
      ],
      "metadata": {
        "id": "mNUa0EcACWCM",
        "colab": {
          "base_uri": "https://localhost:8080/"
        },
        "outputId": "9e861898-345b-4128-9b17-04c4112e9e1d"
      },
      "execution_count": null,
      "outputs": [
        {
          "output_type": "stream",
          "name": "stderr",
          "text": [
            "[nltk_data] Downloading package wordnet to /root/nltk_data...\n"
          ]
        },
        {
          "output_type": "execute_result",
          "data": {
            "text/plain": [
              "True"
            ]
          },
          "metadata": {},
          "execution_count": 13
        }
      ]
    },
    {
      "cell_type": "code",
      "source": [
        "import nltk\n",
        "from nltk.stem import PorterStemmer, WordNetLemmatizer\n"
      ],
      "metadata": {
        "id": "UY9BYZwfCs7r"
      },
      "execution_count": null,
      "outputs": []
    },
    {
      "cell_type": "code",
      "source": [
        "nltk.download('stopwords')\n",
        "from nltk.corpus import stopwords"
      ],
      "metadata": {
        "id": "IlSxtAnXDO9o",
        "colab": {
          "base_uri": "https://localhost:8080/"
        },
        "outputId": "d1f9211e-d48b-4f2f-f58e-5bcfde832517"
      },
      "execution_count": null,
      "outputs": [
        {
          "output_type": "stream",
          "name": "stderr",
          "text": [
            "[nltk_data] Downloading package stopwords to /root/nltk_data...\n",
            "[nltk_data]   Unzipping corpora/stopwords.zip.\n"
          ]
        }
      ]
    },
    {
      "cell_type": "code",
      "source": [
        "for i in  range (len(sentence)):\n",
        "    word = nltk.word_tokenize(sentence[i])\n",
        "    print(word)"
      ],
      "metadata": {
        "colab": {
          "base_uri": "https://localhost:8080/"
        },
        "outputId": "b9aa40f5-692d-4510-97fc-fdd06569b3f1",
        "id": "2qA2NbRWDUJk"
      },
      "execution_count": null,
      "outputs": [
        {
          "output_type": "stream",
          "name": "stdout",
          "text": [
            "['Java', 'is', 'a', 'versatile', 'and', 'powerful', 'programming', 'language', 'widely', 'used', 'in', 'various', 'applications', ',', 'from', 'web', 'development', 'to', 'machine', 'learning', '.']\n",
            "['Its', 'platform', 'independence', ',', 'object-oriented', 'features', ',', 'and', 'extensive', 'libraries', 'make', 'it', 'a', 'popular', 'choice', 'among', 'developers', '.']\n",
            "['With', 'tools', 'like', 'YOLO', 'and', 'TensorFlow', ',', 'Java', 'programmers', 'can', 'efficiently', 'implement', 'complex', 'machine', 'learning', 'and', 'computer', 'vision', 'projects', '.']\n",
            "['Continuous', 'learning', 'and', 'participation', 'in', 'online', 'communities', 'can', 'further', 'enhance', 'one', '’', 's', 'skills', 'and', 'keep', 'them', 'updated', 'with', 'the', 'latest', 'advancements', 'in', 'the', 'field']\n"
          ]
        }
      ]
    },
    {
      "cell_type": "code",
      "source": [
        "import nltk\n",
        "nltk.download(\"punkt\")\n",
        "from nltk.stem import PorterStemmer\n",
        "from nltk.corpus import stopwords\n",
        "\n",
        "stemmer = PorterStemmer()\n",
        "\n",
        "text = '''Java is a versatile and powerful programming language widely used in various applications, from web development to machine learning. Its platform independence, object-oriented features, and extensive libraries make it a popular choice among developers. With tools like YOLO and TensorFlow, Java programmers can efficiently implement complex machine learning and computer vision projects. Continuous learning and participation in online communities can further enhance one’s skills and keep them updated with the latest advancements in the field'''\n",
        "sentences = nltk.sent_tokenize(text)\n",
        "print(sentences)\n",
        "\n",
        "for i in range(len(sentences)):\n",
        "    words = nltk.word_tokenize(sentences[i])\n",
        "    words = [stemmer.stem(word) for word in words if word not in set(stopwords.words(\"english\"))]\n",
        "    sentences[i] = ' '.join(words)\n",
        "print(sentences)"
      ],
      "metadata": {
        "id": "89oIQsehG83B"
      },
      "execution_count": null,
      "outputs": []
    },
    {
      "cell_type": "code",
      "source": [],
      "metadata": {
        "id": "JN_D6j60u_JU"
      },
      "execution_count": null,
      "outputs": []
    }
  ]
}